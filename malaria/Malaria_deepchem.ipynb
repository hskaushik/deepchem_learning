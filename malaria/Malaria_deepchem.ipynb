{
 "cells": [
  {
   "cell_type": "code",
   "execution_count": 4,
   "metadata": {
    "scrolled": true
   },
   "outputs": [],
   "source": [
    "from __future__ import print_function\n",
    "from __future__ import division\n",
    "from __future__ import unicode_literals\n",
    "\n",
    "import numpy as np\n",
    "import deepchem as dc\n",
    "from deepchem.molnet import load_delaney\n",
    "from deepchem.models import GraphConvModel\n",
    "import tensorflow as tf"
   ]
  },
  {
   "cell_type": "markdown",
   "metadata": {},
   "source": [
    "#Setting up model"
   ]
  },
  {
   "cell_type": "code",
   "execution_count": 5,
   "metadata": {},
   "outputs": [
    {
     "name": "stdout",
     "output_type": "stream",
     "text": [
      "Loading raw samples now.\n",
      "shard_size: 8192\n",
      "About to start loading CSV from malaria_GSK_Syngene_Dundee_subset.csv\n",
      "Loading shard 1 of size 8192.\n",
      "Featurizing sample 0\n",
      "TIMING: featurizing shard 0 took 0.175 s\n",
      "TIMING: dataset construction took 0.228 s\n",
      "Loading dataset from disk.\n",
      "About to transform data\n",
      "TIMING: dataset construction took 0.043 s\n",
      "Loading dataset from disk.\n",
      "TIMING: dataset construction took 0.036 s\n",
      "Loading dataset from disk.\n",
      "TIMING: dataset construction took 0.017 s\n",
      "Loading dataset from disk.\n",
      "TIMING: dataset construction took 0.016 s\n",
      "Loading dataset from disk.\n"
     ]
    }
   ],
   "source": [
    "##input malaria file\n",
    "delaney_tasks = ['Kau_IC50']\n",
    "featurizer = dc.feat.ConvMolFeaturizer()\n",
    "\n",
    "input_dataset = 'malaria_GSK_Syngene_Dundee_subset.csv'\n",
    "\n",
    "loader = dc.data.CSVLoader(tasks=delaney_tasks, smiles_field=\"smiles\", featurizer=featurizer)\n",
    "dataset = loader.featurize(input_dataset, shard_size=8192)\n",
    "\n",
    "# Initialize transformers\n",
    "transformers = [\n",
    "  dc.trans.NormalizationTransformer(\n",
    "      transform_y=True, dataset=dataset)\n",
    "]\n",
    "\n",
    "print(\"About to transform data\")\n",
    "for transformer in transformers:\n",
    "    dataset = transformer.transform(dataset)\n",
    "\n",
    "# splitters = {\n",
    "#   'index': dc.splits.IndexSplitter(),\n",
    "#   'random': dc.splits.RandomSplitter(),\n",
    "#   'scaffold': dc.splits.ScaffoldSplitter()\n",
    "# }\n",
    "splitter = dc.splits.ScaffoldSplitter()\n",
    "train_dataset, valid_dataset, test_dataset = splitter.train_valid_test_split(dataset)\n"
   ]
  },
  {
   "cell_type": "code",
   "execution_count": 11,
   "metadata": {},
   "outputs": [],
   "source": [
    "# Load Delaney dataset\n",
    "# delaney_tasks, delaney_datasets, transformers = load_delaney(\n",
    "#     featurizer='GraphConv', split='index')\n",
    "# train_dataset, valid_dataset, test_dataset = dataset\n",
    "\n",
    "# Fit models\n",
    "metric = dc.metrics.Metric(dc.metrics.pearson_r2_score, np.mean)\n",
    "\n",
    "# Do setup required for tf/keras models\n",
    "# Number of features on conv-mols\n",
    "n_feat = 250\n",
    "# Batch size of models\n",
    "batch_size = 128\n",
    "model = GraphConvModel(\n",
    "    len(delaney_tasks), batch_size=batch_size, mode='regression')\n"
   ]
  },
  {
   "cell_type": "markdown",
   "metadata": {},
   "source": [
    "##Train model"
   ]
  },
  {
   "cell_type": "code",
   "execution_count": 13,
   "metadata": {},
   "outputs": [
    {
     "name": "stdout",
     "output_type": "stream",
     "text": [
      "Evaluating model\n",
      "computed_metrics: [0.8957445340227508]\n",
      "computed_metrics: [0.8562918277333406]\n",
      "Train scores\n",
      "{'mean-pearson_r2_score': 0.8957445340227508}\n",
      "Validation scores\n",
      "{'mean-pearson_r2_score': 0.8562918277333406}\n"
     ]
    }
   ],
   "source": [
    "# Fit trained model\n",
    "model.fit(train_dataset, nb_epoch=500)\n",
    "\n",
    "print(\"Evaluating model\")\n",
    "train_scores = model.evaluate(train_dataset, [metric], transformers)\n",
    "valid_scores = model.evaluate(valid_dataset, [metric], transformers)\n",
    "\n",
    "print(\"Train scores\")\n",
    "print(train_scores)\n",
    "\n",
    "print(\"Validation scores\")\n",
    "print(valid_scores)"
   ]
  },
  {
   "cell_type": "code",
   "execution_count": null,
   "metadata": {},
   "outputs": [],
   "source": []
  }
 ],
 "metadata": {
  "kernelspec": {
   "display_name": "Python 3",
   "language": "python",
   "name": "python3"
  },
  "language_info": {
   "codemirror_mode": {
    "name": "ipython",
    "version": 3
   },
   "file_extension": ".py",
   "mimetype": "text/x-python",
   "name": "python",
   "nbconvert_exporter": "python",
   "pygments_lexer": "ipython3",
   "version": "3.6.8"
  }
 },
 "nbformat": 4,
 "nbformat_minor": 4
}
