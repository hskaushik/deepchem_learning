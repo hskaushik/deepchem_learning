{
 "cells": [
  {
   "cell_type": "code",
   "execution_count": 1,
   "metadata": {},
   "outputs": [],
   "source": [
    "import pandas as pd\n",
    "import numpy as np\n",
    "\n",
    "from rdkit import Chem\n",
    "from rdkit.Chem import Draw\n",
    "from rdkit.Chem import PandasTools\n",
    "from rdkit.Chem.Draw import IPythonConsole\n",
    "from rdkit.Chem import AllChem\n",
    "from rdkit.Chem import rdFingerprintGenerator\n",
    "from rdkit import DataStructs\n",
    "from rdkit.Chem import MACCSkeys\n",
    "from rdkit.Chem.Fingerprints import FingerprintMols\n",
    "import matplotlib.pyplot as plt\n",
    "\n",
    "from descriptastorus.descriptors.DescriptorGenerator import MakeGenerator\n",
    "#https://github.com/bp-kelley/descriptastorus\n"
   ]
  },
  {
   "cell_type": "markdown",
   "metadata": {},
   "source": [
    "# Input both test/training dataset "
   ]
  },
  {
   "cell_type": "code",
   "execution_count": 189,
   "metadata": {},
   "outputs": [],
   "source": [
    "full_copy = pd.read_csv('../../../project1_data/Series4_full.csv', index_col = 'ID')\n",
    "# full_copy.head()\n",
    "PandasTools.AddMoleculeColumnToFrame(full_copy,smilesCol='SMILES')\n",
    "# full_copy.head()"
   ]
  },
  {
   "cell_type": "markdown",
   "metadata": {},
   "source": [
    "# Generating descriptors using RDKit"
   ]
  },
  {
   "cell_type": "code",
   "execution_count": 190,
   "metadata": {},
   "outputs": [],
   "source": [
    "# RDKit\n",
    "generator = MakeGenerator((\"RDKit2D\",))\n",
    "\n",
    "full_copy_rdkit2d = [generator.process(x)[1:] for x in full_copy['SMILES']]"
   ]
  },
  {
   "cell_type": "code",
   "execution_count": 191,
   "metadata": {},
   "outputs": [],
   "source": [
    "rdkit2d_name = []\n",
    "for name, numpy_type in generator.GetColumns():\n",
    "    rdkit2d_name.append(name)\n",
    "    \n",
    "full_copy_rdkit2d_df = pd.DataFrame(full_copy_rdkit2d, index = full_copy.index, columns=rdkit2d_name[1:])"
   ]
  },
  {
   "cell_type": "code",
   "execution_count": 6,
   "metadata": {},
   "outputs": [],
   "source": [
    "# full_copy_rdkit2d_df.head()"
   ]
  },
  {
   "cell_type": "markdown",
   "metadata": {},
   "source": [
    "# MACCS keys "
   ]
  },
  {
   "cell_type": "code",
   "execution_count": 7,
   "metadata": {},
   "outputs": [],
   "source": [
    "# full_copy_MAACS = [MACCSkeys.GenMACCSKeys(x) for x in full_copy['ROMol']]\n",
    "# full_copy_MAACS_list = [list(l) for l in full_copy_MAACS]\n",
    "# maccs_name = [f'Bit_{i}' for i in range(167)]\n",
    "# full_copy_MAACS_df = pd.DataFrame(full_copy_MAACS_list, index = full_copy.index, columns=maccs_name)\n",
    "# full_copy_MAACS_df"
   ]
  },
  {
   "cell_type": "code",
   "execution_count": 8,
   "metadata": {},
   "outputs": [],
   "source": [
    "# Mergind MACCS and RDKit descriptors\n",
    "\n",
    "# full_copy_rdkit2d_df = pd.merge(full_copy_MAACS_df,full_copy_rdkit2d_df,left_on='ID',right_on='ID')\n",
    "# full_copy_rdkit2d_df.shape"
   ]
  },
  {
   "cell_type": "code",
   "execution_count": 192,
   "metadata": {},
   "outputs": [],
   "source": [
    "full_copy_rdkit2d_df.to_csv('../../../project1_data/from_PP/full_copy_rdkit2d_df.csv')"
   ]
  },
  {
   "cell_type": "code",
   "execution_count": 193,
   "metadata": {},
   "outputs": [],
   "source": [
    "TrainTest=full_copy.drop(full_copy[full_copy.type == 'validation'].index)\n",
    "TrainTest.drop(TrainTest[TrainTest.type == 'excluded'].index, inplace=True)\n",
    "TrainTest.drop(TrainTest[TrainTest.type == 'excluded_subset'].index, inplace=True)\n",
    "\n",
    "# full_copy.shape\n",
    "validation=full_copy.drop(full_copy[full_copy.type == 'TestTrain'].index)\n",
    "validation.drop(validation[validation.type == 'excluded'].index, inplace=True)\n",
    "validation.drop(validation[validation.type == 'excluded_subset'].index, inplace=True)\n",
    "\n",
    "excluded=full_copy.drop(full_copy[full_copy.type == 'TestTrain'].index)\n",
    "excluded.drop(excluded[excluded.type == 'validation'].index, inplace=True)\n",
    "excluded.drop(excluded[excluded.type == 'excluded'].index, inplace=True)\n",
    "\n",
    "\n",
    "# TrainTest.head()"
   ]
  },
  {
   "cell_type": "markdown",
   "metadata": {},
   "source": [
    "# Including PP data"
   ]
  },
  {
   "cell_type": "code",
   "execution_count": 202,
   "metadata": {},
   "outputs": [
    {
     "data": {
      "text/plain": [
       "(196, 173)"
      ]
     },
     "execution_count": 202,
     "metadata": {},
     "output_type": "execute_result"
    }
   ],
   "source": [
    "full_copy_rdkit2d_df = pd.read_csv('../../../project1_data/from_PP/desirable-database_2020-09-10_ONLY-PPP-descriptors.csv', index_col = 'ID')\n",
    "full_copy_rdkit2d_df.head()\n",
    "allMerged = pd.merge(TrainTest,full_copy_rdkit2d_df,left_on='ID',right_on='ID')\n",
    "allMerged_validation = pd.merge(validation,full_copy_rdkit2d_df,left_on='ID',right_on='ID')\n",
    "allMerged_excluded = pd.merge(excluded,full_copy_rdkit2d_df,left_on='ID',right_on='ID')\n",
    "allMerged.shape"
   ]
  },
  {
   "cell_type": "code",
   "execution_count": 203,
   "metadata": {},
   "outputs": [],
   "source": [
    "allMerged.drop(['type','desired_type',  'Cluster member', 'Cluster type', 'ROMol', 'MCS Cluster', 'smiles_stardard'], axis=1, inplace=True)\n",
    "allMerged_validation.drop(['type', 'desired_type', 'Cluster member', 'Cluster type', 'ROMol', 'MCS Cluster', 'smiles_stardard'], axis=1, inplace=True)\n",
    "allMerged_excluded.drop(['type', 'desired_type', 'Cluster member', 'Cluster type', 'ROMol', 'MCS Cluster', 'smiles_stardard'], axis=1, inplace=True)\n",
    "# allMerged.dropna(inplace=True)\n",
    "\n",
    "allMerged.drop(['desired'], axis=1, inplace=True)\n",
    "allMerged_validation.drop(['desired'], axis=1, inplace=True)\n",
    "# allMerged_validation.drop(allMerged_validation[allMerged_validation.clearance < 7].index, inplace=True)\n",
    "allMerged_excluded.drop(['desired'], axis=1, inplace=True)\n",
    "allMerged_excluded.drop(allMerged_excluded[allMerged_excluded.clearance < 7].index, inplace=True)\n",
    "\n",
    "# allMerged.drop(['clearance'], axis=1, inplace=True)\n",
    "# allMerged_validation.drop(['clearance'], axis=1, inplace=True)\n",
    "# allMerged_excluded.drop(['clearance'], axis=1, inplace=True)\n",
    "\n",
    "# allMerged.drop(allMerged[allMerged.clearance > 49.9].index, inplace=True)\n",
    "# allMerged.drop(allMerged[allMerged.desired < 4.6].index, inplace=True)\n",
    "# allMerged.drop(allMerged[allMerged.clearance < 0.51].index, inplace=True)\n",
    "# allMerged[allMerged['clearance'] > 49.9 ]\n"
   ]
  },
  {
   "cell_type": "code",
   "execution_count": 208,
   "metadata": {},
   "outputs": [
    {
     "data": {
      "text/html": [
       "<div>\n",
       "<style scoped>\n",
       "    .dataframe tbody tr th:only-of-type {\n",
       "        vertical-align: middle;\n",
       "    }\n",
       "\n",
       "    .dataframe tbody tr th {\n",
       "        vertical-align: top;\n",
       "    }\n",
       "\n",
       "    .dataframe thead th {\n",
       "        text-align: right;\n",
       "    }\n",
       "</style>\n",
       "<table border=\"1\" class=\"dataframe\">\n",
       "  <thead>\n",
       "    <tr style=\"text-align: right;\">\n",
       "      <th></th>\n",
       "      <th>SMILES</th>\n",
       "      <th>clearance</th>\n",
       "      <th>logS_SD</th>\n",
       "      <th>logS_7_4</th>\n",
       "      <th>logP_SD</th>\n",
       "      <th>logD_SD</th>\n",
       "      <th>2C9_pKi</th>\n",
       "      <th>hERG</th>\n",
       "      <th>BBB_log_SD</th>\n",
       "      <th>BBB</th>\n",
       "      <th>...</th>\n",
       "      <th>RotBonds</th>\n",
       "      <th>ALogP</th>\n",
       "      <th>ALogP_MR</th>\n",
       "      <th>Wiener</th>\n",
       "      <th>Zagreb</th>\n",
       "      <th>Num_H_Acceptors</th>\n",
       "      <th>Num_H_Donors</th>\n",
       "      <th>Molecular_Volume</th>\n",
       "      <th>Molecular_SurfaceArea</th>\n",
       "      <th>Molecular_PolarSurfaceArea</th>\n",
       "    </tr>\n",
       "    <tr>\n",
       "      <th>ID</th>\n",
       "      <th></th>\n",
       "      <th></th>\n",
       "      <th></th>\n",
       "      <th></th>\n",
       "      <th></th>\n",
       "      <th></th>\n",
       "      <th></th>\n",
       "      <th></th>\n",
       "      <th></th>\n",
       "      <th></th>\n",
       "      <th></th>\n",
       "      <th></th>\n",
       "      <th></th>\n",
       "      <th></th>\n",
       "      <th></th>\n",
       "      <th></th>\n",
       "      <th></th>\n",
       "      <th></th>\n",
       "      <th></th>\n",
       "      <th></th>\n",
       "      <th></th>\n",
       "    </tr>\n",
       "  </thead>\n",
       "  <tbody>\n",
       "    <tr>\n",
       "      <th>DDD02153544</th>\n",
       "      <td>C1CC(CCn2cncn2)CN(C1)c1snc2ccccc12</td>\n",
       "      <td>16.070</td>\n",
       "      <td>2.456</td>\n",
       "      <td>1.713</td>\n",
       "      <td>3.441</td>\n",
       "      <td>1.954</td>\n",
       "      <td>4.946</td>\n",
       "      <td>6.168</td>\n",
       "      <td>-0.440</td>\n",
       "      <td>0.75</td>\n",
       "      <td>...</td>\n",
       "      <td>4</td>\n",
       "      <td>3.086</td>\n",
       "      <td>92.432</td>\n",
       "      <td>1130</td>\n",
       "      <td>118</td>\n",
       "      <td>4</td>\n",
       "      <td>0</td>\n",
       "      <td>244.21</td>\n",
       "      <td>315.30</td>\n",
       "      <td>75.08</td>\n",
       "    </tr>\n",
       "    <tr>\n",
       "      <th>DDD01868260</th>\n",
       "      <td>C1C[C@H](CN(C1)c1snc2ccccc12)Cn1ccnc1</td>\n",
       "      <td>5.992</td>\n",
       "      <td>2.169</td>\n",
       "      <td>1.324</td>\n",
       "      <td>3.645</td>\n",
       "      <td>2.041</td>\n",
       "      <td>5.047</td>\n",
       "      <td>6.095</td>\n",
       "      <td>-0.307</td>\n",
       "      <td>0.17</td>\n",
       "      <td>...</td>\n",
       "      <td>3</td>\n",
       "      <td>2.763</td>\n",
       "      <td>87.794</td>\n",
       "      <td>954</td>\n",
       "      <td>114</td>\n",
       "      <td>3</td>\n",
       "      <td>0</td>\n",
       "      <td>234.61</td>\n",
       "      <td>300.30</td>\n",
       "      <td>62.19</td>\n",
       "    </tr>\n",
       "    <tr>\n",
       "      <th>DDD02156129</th>\n",
       "      <td>C1CC(CCn2ccnn2)CN(C1)c1snc2ccccc12</td>\n",
       "      <td>13.000</td>\n",
       "      <td>2.456</td>\n",
       "      <td>1.713</td>\n",
       "      <td>3.441</td>\n",
       "      <td>1.960</td>\n",
       "      <td>4.946</td>\n",
       "      <td>6.167</td>\n",
       "      <td>-0.440</td>\n",
       "      <td>0.75</td>\n",
       "      <td>...</td>\n",
       "      <td>4</td>\n",
       "      <td>3.303</td>\n",
       "      <td>93.089</td>\n",
       "      <td>1130</td>\n",
       "      <td>118</td>\n",
       "      <td>4</td>\n",
       "      <td>0</td>\n",
       "      <td>243.18</td>\n",
       "      <td>311.12</td>\n",
       "      <td>75.08</td>\n",
       "    </tr>\n",
       "    <tr>\n",
       "      <th>DDD02157535</th>\n",
       "      <td>CC(=O)N[C@@H]1CCCN(C1)c1snc2ccc(cc12)F</td>\n",
       "      <td>3.926</td>\n",
       "      <td>2.633</td>\n",
       "      <td>1.278</td>\n",
       "      <td>2.687</td>\n",
       "      <td>1.564</td>\n",
       "      <td>5.067</td>\n",
       "      <td>5.188</td>\n",
       "      <td>-0.671</td>\n",
       "      <td>0.21</td>\n",
       "      <td>...</td>\n",
       "      <td>2</td>\n",
       "      <td>2.353</td>\n",
       "      <td>78.523</td>\n",
       "      <td>814</td>\n",
       "      <td>106</td>\n",
       "      <td>3</td>\n",
       "      <td>1</td>\n",
       "      <td>230.49</td>\n",
       "      <td>288.83</td>\n",
       "      <td>73.47</td>\n",
       "    </tr>\n",
       "    <tr>\n",
       "      <th>DDD02155725</th>\n",
       "      <td>F[C@@H]1C[C@H](CN(C1)c1snc2ccccc12)NC(=O)c1ncc...</td>\n",
       "      <td>12.700</td>\n",
       "      <td>2.442</td>\n",
       "      <td>1.245</td>\n",
       "      <td>2.160</td>\n",
       "      <td>1.590</td>\n",
       "      <td>5.082</td>\n",
       "      <td>4.772</td>\n",
       "      <td>-0.800</td>\n",
       "      <td>0.97</td>\n",
       "      <td>...</td>\n",
       "      <td>3</td>\n",
       "      <td>1.955</td>\n",
       "      <td>90.538</td>\n",
       "      <td>1368</td>\n",
       "      <td>130</td>\n",
       "      <td>4</td>\n",
       "      <td>2</td>\n",
       "      <td>249.01</td>\n",
       "      <td>327.70</td>\n",
       "      <td>102.15</td>\n",
       "    </tr>\n",
       "    <tr>\n",
       "      <th>...</th>\n",
       "      <td>...</td>\n",
       "      <td>...</td>\n",
       "      <td>...</td>\n",
       "      <td>...</td>\n",
       "      <td>...</td>\n",
       "      <td>...</td>\n",
       "      <td>...</td>\n",
       "      <td>...</td>\n",
       "      <td>...</td>\n",
       "      <td>...</td>\n",
       "      <td>...</td>\n",
       "      <td>...</td>\n",
       "      <td>...</td>\n",
       "      <td>...</td>\n",
       "      <td>...</td>\n",
       "      <td>...</td>\n",
       "      <td>...</td>\n",
       "      <td>...</td>\n",
       "      <td>...</td>\n",
       "      <td>...</td>\n",
       "      <td>...</td>\n",
       "    </tr>\n",
       "    <tr>\n",
       "      <th>DDD02098186</th>\n",
       "      <td>C1CCN(C1)CC1CCCN(C1)c1snc2ccccc12</td>\n",
       "      <td>29.870</td>\n",
       "      <td>3.109</td>\n",
       "      <td>1.384</td>\n",
       "      <td>3.678</td>\n",
       "      <td>2.630</td>\n",
       "      <td>4.520</td>\n",
       "      <td>6.552</td>\n",
       "      <td>0.063</td>\n",
       "      <td>0.14</td>\n",
       "      <td>...</td>\n",
       "      <td>3</td>\n",
       "      <td>3.621</td>\n",
       "      <td>91.413</td>\n",
       "      <td>954</td>\n",
       "      <td>114</td>\n",
       "      <td>3</td>\n",
       "      <td>0</td>\n",
       "      <td>248.33</td>\n",
       "      <td>306.36</td>\n",
       "      <td>47.61</td>\n",
       "    </tr>\n",
       "    <tr>\n",
       "      <th>DDD01865290</th>\n",
       "      <td>O[C@@H]1CCN(C1)c1snc2ccccc12</td>\n",
       "      <td>2.797</td>\n",
       "      <td>4.206</td>\n",
       "      <td>1.350</td>\n",
       "      <td>1.822</td>\n",
       "      <td>1.266</td>\n",
       "      <td>4.416</td>\n",
       "      <td>5.258</td>\n",
       "      <td>-0.634</td>\n",
       "      <td>0.20</td>\n",
       "      <td>...</td>\n",
       "      <td>1</td>\n",
       "      <td>1.836</td>\n",
       "      <td>62.562</td>\n",
       "      <td>348</td>\n",
       "      <td>82</td>\n",
       "      <td>3</td>\n",
       "      <td>1</td>\n",
       "      <td>171.49</td>\n",
       "      <td>211.79</td>\n",
       "      <td>64.59</td>\n",
       "    </tr>\n",
       "    <tr>\n",
       "      <th>DDD02155729</th>\n",
       "      <td>Cn1cnc(c1)C(=O)N[C@H]1CN(CC[C@H]1F)c1snc2ccccc12</td>\n",
       "      <td>1.511</td>\n",
       "      <td>2.270</td>\n",
       "      <td>1.385</td>\n",
       "      <td>2.852</td>\n",
       "      <td>1.563</td>\n",
       "      <td>5.439</td>\n",
       "      <td>5.376</td>\n",
       "      <td>-0.632</td>\n",
       "      <td>0.95</td>\n",
       "      <td>...</td>\n",
       "      <td>3</td>\n",
       "      <td>2.183</td>\n",
       "      <td>95.586</td>\n",
       "      <td>1546</td>\n",
       "      <td>136</td>\n",
       "      <td>4</td>\n",
       "      <td>1</td>\n",
       "      <td>272.68</td>\n",
       "      <td>353.57</td>\n",
       "      <td>91.29</td>\n",
       "    </tr>\n",
       "    <tr>\n",
       "      <th>DDD02155722</th>\n",
       "      <td>CC(=O)N1CCC(CC1)C(=O)N[C@@H]1C[C@H](F)CN(C1)c1...</td>\n",
       "      <td>2.027</td>\n",
       "      <td>2.898</td>\n",
       "      <td>1.106</td>\n",
       "      <td>2.271</td>\n",
       "      <td>1.604</td>\n",
       "      <td>5.087</td>\n",
       "      <td>5.163</td>\n",
       "      <td>-1.145</td>\n",
       "      <td>0.83</td>\n",
       "      <td>...</td>\n",
       "      <td>3</td>\n",
       "      <td>1.883</td>\n",
       "      <td>107.930</td>\n",
       "      <td>2204</td>\n",
       "      <td>150</td>\n",
       "      <td>4</td>\n",
       "      <td>1</td>\n",
       "      <td>310.75</td>\n",
       "      <td>400.16</td>\n",
       "      <td>93.78</td>\n",
       "    </tr>\n",
       "    <tr>\n",
       "      <th>DDD01867115</th>\n",
       "      <td>CC(=O)N[C@H]1CCCN(C1)c1snc2ccccc12</td>\n",
       "      <td>4.152</td>\n",
       "      <td>3.348</td>\n",
       "      <td>1.220</td>\n",
       "      <td>2.564</td>\n",
       "      <td>1.548</td>\n",
       "      <td>4.809</td>\n",
       "      <td>4.882</td>\n",
       "      <td>-0.655</td>\n",
       "      <td>0.24</td>\n",
       "      <td>...</td>\n",
       "      <td>2</td>\n",
       "      <td>2.148</td>\n",
       "      <td>78.307</td>\n",
       "      <td>709</td>\n",
       "      <td>100</td>\n",
       "      <td>3</td>\n",
       "      <td>1</td>\n",
       "      <td>221.92</td>\n",
       "      <td>277.86</td>\n",
       "      <td>73.47</td>\n",
       "    </tr>\n",
       "  </tbody>\n",
       "</table>\n",
       "<p>196 rows × 165 columns</p>\n",
       "</div>"
      ],
      "text/plain": [
       "                                                        SMILES  clearance  \\\n",
       "ID                                                                          \n",
       "DDD02153544                 C1CC(CCn2cncn2)CN(C1)c1snc2ccccc12     16.070   \n",
       "DDD01868260              C1C[C@H](CN(C1)c1snc2ccccc12)Cn1ccnc1      5.992   \n",
       "DDD02156129                 C1CC(CCn2ccnn2)CN(C1)c1snc2ccccc12     13.000   \n",
       "DDD02157535             CC(=O)N[C@@H]1CCCN(C1)c1snc2ccc(cc12)F      3.926   \n",
       "DDD02155725  F[C@@H]1C[C@H](CN(C1)c1snc2ccccc12)NC(=O)c1ncc...     12.700   \n",
       "...                                                        ...        ...   \n",
       "DDD02098186                  C1CCN(C1)CC1CCCN(C1)c1snc2ccccc12     29.870   \n",
       "DDD01865290                       O[C@@H]1CCN(C1)c1snc2ccccc12      2.797   \n",
       "DDD02155729   Cn1cnc(c1)C(=O)N[C@H]1CN(CC[C@H]1F)c1snc2ccccc12      1.511   \n",
       "DDD02155722  CC(=O)N1CCC(CC1)C(=O)N[C@@H]1C[C@H](F)CN(C1)c1...      2.027   \n",
       "DDD01867115                 CC(=O)N[C@H]1CCCN(C1)c1snc2ccccc12      4.152   \n",
       "\n",
       "             logS_SD  logS_7_4  logP_SD  logD_SD  2C9_pKi   hERG  BBB_log_SD  \\\n",
       "ID                                                                             \n",
       "DDD02153544    2.456     1.713    3.441    1.954    4.946  6.168      -0.440   \n",
       "DDD01868260    2.169     1.324    3.645    2.041    5.047  6.095      -0.307   \n",
       "DDD02156129    2.456     1.713    3.441    1.960    4.946  6.167      -0.440   \n",
       "DDD02157535    2.633     1.278    2.687    1.564    5.067  5.188      -0.671   \n",
       "DDD02155725    2.442     1.245    2.160    1.590    5.082  4.772      -0.800   \n",
       "...              ...       ...      ...      ...      ...    ...         ...   \n",
       "DDD02098186    3.109     1.384    3.678    2.630    4.520  6.552       0.063   \n",
       "DDD01865290    4.206     1.350    1.822    1.266    4.416  5.258      -0.634   \n",
       "DDD02155729    2.270     1.385    2.852    1.563    5.439  5.376      -0.632   \n",
       "DDD02155722    2.898     1.106    2.271    1.604    5.087  5.163      -1.145   \n",
       "DDD01867115    3.348     1.220    2.564    1.548    4.809  4.882      -0.655   \n",
       "\n",
       "              BBB  ...  RotBonds  ALogP  ALogP_MR  Wiener  Zagreb  \\\n",
       "ID                 ...                                              \n",
       "DDD02153544  0.75  ...         4  3.086    92.432    1130     118   \n",
       "DDD01868260  0.17  ...         3  2.763    87.794     954     114   \n",
       "DDD02156129  0.75  ...         4  3.303    93.089    1130     118   \n",
       "DDD02157535  0.21  ...         2  2.353    78.523     814     106   \n",
       "DDD02155725  0.97  ...         3  1.955    90.538    1368     130   \n",
       "...           ...  ...       ...    ...       ...     ...     ...   \n",
       "DDD02098186  0.14  ...         3  3.621    91.413     954     114   \n",
       "DDD01865290  0.20  ...         1  1.836    62.562     348      82   \n",
       "DDD02155729  0.95  ...         3  2.183    95.586    1546     136   \n",
       "DDD02155722  0.83  ...         3  1.883   107.930    2204     150   \n",
       "DDD01867115  0.24  ...         2  2.148    78.307     709     100   \n",
       "\n",
       "             Num_H_Acceptors  Num_H_Donors  Molecular_Volume  \\\n",
       "ID                                                             \n",
       "DDD02153544                4             0            244.21   \n",
       "DDD01868260                3             0            234.61   \n",
       "DDD02156129                4             0            243.18   \n",
       "DDD02157535                3             1            230.49   \n",
       "DDD02155725                4             2            249.01   \n",
       "...                      ...           ...               ...   \n",
       "DDD02098186                3             0            248.33   \n",
       "DDD01865290                3             1            171.49   \n",
       "DDD02155729                4             1            272.68   \n",
       "DDD02155722                4             1            310.75   \n",
       "DDD01867115                3             1            221.92   \n",
       "\n",
       "             Molecular_SurfaceArea  Molecular_PolarSurfaceArea  \n",
       "ID                                                              \n",
       "DDD02153544                 315.30                       75.08  \n",
       "DDD01868260                 300.30                       62.19  \n",
       "DDD02156129                 311.12                       75.08  \n",
       "DDD02157535                 288.83                       73.47  \n",
       "DDD02155725                 327.70                      102.15  \n",
       "...                            ...                         ...  \n",
       "DDD02098186                 306.36                       47.61  \n",
       "DDD01865290                 211.79                       64.59  \n",
       "DDD02155729                 353.57                       91.29  \n",
       "DDD02155722                 400.16                       93.78  \n",
       "DDD01867115                 277.86                       73.47  \n",
       "\n",
       "[196 rows x 165 columns]"
      ]
     },
     "execution_count": 208,
     "metadata": {},
     "output_type": "execute_result"
    }
   ],
   "source": [
    "# allMerged"
   ]
  },
  {
   "cell_type": "markdown",
   "metadata": {},
   "source": [
    "# Random forest "
   ]
  },
  {
   "cell_type": "code",
   "execution_count": 224,
   "metadata": {},
   "outputs": [
    {
     "data": {
      "text/plain": [
       "0.593939393939394"
      ]
     },
     "execution_count": 224,
     "metadata": {},
     "output_type": "execute_result"
    }
   ],
   "source": [
    "X = allMerged.iloc[:, 2:,].values #descreptors\n",
    "y = allMerged.iloc[:, 1].values #desired property\n",
    "# y\n"
   ]
  },
  {
   "cell_type": "code",
   "execution_count": 218,
   "metadata": {},
   "outputs": [
    {
     "name": "stdout",
     "output_type": "stream",
     "text": [
      "(156, 163)\n",
      "[0]\n",
      "[0.6657482374788939]\n"
     ]
    }
   ],
   "source": [
    "# print(X.shape)\n",
    "# print(y)\n",
    "\n",
    "r2_list = []\n",
    "random_state_variable_list = []\n",
    "\n",
    "for f in range(0,1,1):\n",
    "\n",
    "    random_state_variable=f\n",
    "    random_state_variable_list.append(f)\n",
    "\n",
    "    from sklearn.model_selection import train_test_split\n",
    "    X_train, X_test, y_train, y_test = train_test_split(X, y, test_size=0.2, random_state=random_state_variable)\n",
    "    print(X_train.shape)\n",
    "    # print(X_test.shape)\n",
    "    # print(y_train.shape)\n",
    "    # print(y_test.shape)\n",
    "\n",
    "    from sklearn.preprocessing import StandardScaler\n",
    "\n",
    "    sc = StandardScaler()\n",
    "    X_train = sc.fit_transform(X_train)\n",
    "    X_test = sc.transform(X_test)\n",
    "    X_train.shape\n",
    "\n",
    "\n",
    "    ### Starting Random Forest fitting\n",
    "\n",
    "    from sklearn.ensemble import RandomForestRegressor\n",
    "\n",
    "    regressor = RandomForestRegressor(n_estimators=500, random_state=random_state_variable)\n",
    "    regressor.fit(X_train, y_train)\n",
    "    y_pred = regressor.predict(X_test)\n",
    "\n",
    "    from sklearn import metrics\n",
    "\n",
    "#     print('Mean Absolute Error:', metrics.mean_absolute_error(y_test, y_pred))\n",
    "#     print('Mean Squared Error:', metrics.mean_squared_error(y_test, y_pred))\n",
    "#     print('Root Mean Squared Error:', np.sqrt(metrics.mean_squared_error(y_test, y_pred)))\n",
    "    r2_list.append(r2_score(y_test, y_pred))\n",
    "#     from sklearn.metrics import r2_score\n",
    "#     plt.scatter(y_test, y_pred)\n",
    "#     m, b = np.polyfit(y_test, y_pred, 1)\n",
    "#     plt.plot(y_test, m*y_test + b)\n",
    "#     # plt.axes.set_title()\n",
    "#     plt.title('R2: ' + str(r2_score(y_test, y_pred)))\n",
    "\n",
    "print (random_state_variable_list)\n",
    "print (r2_list)"
   ]
  },
  {
   "cell_type": "code",
   "execution_count": 227,
   "metadata": {},
   "outputs": [
    {
     "data": {
      "text/plain": [
       "(40,)"
      ]
     },
     "execution_count": 227,
     "metadata": {},
     "output_type": "execute_result"
    },
    {
     "data": {
      "image/png": "[encoded data removed]",
      "text/plain": [
       "<Figure size 432x288 with 1 Axes>"
      ]
     },
     "metadata": {
      "needs_background": "light"
     },
     "output_type": "display_data"
    }
   ],
   "source": [
    "from sklearn.metrics import r2_score\n",
    "plt.scatter(random_state_variable_list, r2_list)\n",
    "plt.title('R2: ' + str(r2_score(y_test, y_pred)))"
   ]
  },
  {
   "cell_type": "code",
   "execution_count": 226,
   "metadata": {},
   "outputs": [
    {
     "name": "stdout",
     "output_type": "stream",
     "text": [
      "Mean Absolute Error: 5.346666247448979\n",
      "Mean Squared Error: 48.21028288188405\n",
      "Root Mean Squared Error: 6.943362505435248\n",
      "XXXXXXXXXXXXXXXXXXXXX\n"
     ]
    },
    {
     "data": {
      "text/plain": [
       "Text(0.5, 1.0, 'R2: 0.6657482374788939')"
      ]
     },
     "execution_count": 226,
     "metadata": {},
     "output_type": "execute_result"
    },
    {
     "data": {
      "image/png": "[encoded data removed]",
      "text/plain": [
       "<Figure size 432x288 with 1 Axes>"
      ]
     },
     "metadata": {
      "needs_background": "light"
     },
     "output_type": "display_data"
    }
   ],
   "source": [
    "print('Mean Absolute Error:', metrics.mean_absolute_error(y_valid, Y_valid_pred))\n",
    "print('Mean Squared Error:', metrics.mean_squared_error(y_valid, Y_valid_pred))\n",
    "print('Root Mean Squared Error:', np.sqrt(metrics.mean_squared_error(y_valid, Y_valid_pred)))\n",
    "print('XXXXXXXXXXXXXXXXXXXXX')\n",
    "plt.scatter(y_test, y_pred)\n",
    "m, b = np.polyfit(y_test, y_pred, 1)\n",
    "plt.plot(y_test, m*y_test + b)\n",
    "plt.title('R2: ' + str(r2_score(y_test, y_pred)))"
   ]
  },
  {
   "cell_type": "markdown",
   "metadata": {},
   "source": [
    "# Validation datasets"
   ]
  },
  {
   "cell_type": "code",
   "execution_count": 220,
   "metadata": {},
   "outputs": [
    {
     "data": {
      "text/plain": [
       "(14, 163)"
      ]
     },
     "execution_count": 220,
     "metadata": {},
     "output_type": "execute_result"
    }
   ],
   "source": [
    "X_valid = allMerged_validation.iloc[:, 2:,].values #descreptors\n",
    "y_valid = allMerged_validation.iloc[:, 1].values #desirable data\n",
    "\n",
    "# allMerged_excluded.dropna(inplace=True)\n",
    "# X_valid = allMerged_excluded.iloc[:, 2:,].values #descreptors\n",
    "# y_valid = allMerged_excluded.iloc[:, 1].values #desirable data\n",
    "\n",
    "X_valid.shape\n",
    "from sklearn.preprocessing import StandardScaler\n",
    "sc = StandardScaler()\n",
    "X_valid_norm = sc.fit_transform(X_valid)\n",
    "X_valid_norm.shape\n",
    "# allMerged_excluded.dropna(inplace=True)\n",
    "# allMerged_excluded"
   ]
  },
  {
   "cell_type": "code",
   "execution_count": 221,
   "metadata": {},
   "outputs": [
    {
     "name": "stdout",
     "output_type": "stream",
     "text": [
      "Mean Absolute Error: 5.346666247448979\n",
      "Mean Squared Error: 48.21028288188405\n",
      "Root Mean Squared Error: 6.943362505435248\n",
      "XXXXXXXXXXXXXXXXXXXXX\n"
     ]
    },
    {
     "data": {
      "text/plain": [
       "Text(0.5, 1.0, 'R2: 0.6718290885101952')"
      ]
     },
     "execution_count": 221,
     "metadata": {},
     "output_type": "execute_result"
    },
    {
     "data": {
      "image/png": "[encoded data removed]",
      "text/plain": [
       "<Figure size 432x288 with 1 Axes>"
      ]
     },
     "metadata": {
      "needs_background": "light"
     },
     "output_type": "display_data"
    }
   ],
   "source": [
    "Y_valid_pred = regressor.predict(X_valid_norm)\n",
    "# print(X_valid_norm)\n",
    "print('Mean Absolute Error:', metrics.mean_absolute_error(y_valid, Y_valid_pred))\n",
    "print('Mean Squared Error:', metrics.mean_squared_error(y_valid, Y_valid_pred))\n",
    "print('Root Mean Squared Error:', np.sqrt(metrics.mean_squared_error(y_valid, Y_valid_pred)))\n",
    "print('XXXXXXXXXXXXXXXXXXXXX')\n",
    "plt.scatter(y_valid, Y_valid_pred)\n",
    "m, b = np.polyfit(y_valid, Y_valid_pred, 1)\n",
    "plt.plot(y_valid, m*y_valid + b)\n",
    "plt.title('R2: ' + str(r2_score(y_valid, Y_valid_pred)))"
   ]
  },
  {
   "cell_type": "markdown",
   "metadata": {},
   "source": [
    "# Visualising leaves"
   ]
  },
  {
   "cell_type": "code",
   "execution_count": null,
   "metadata": {},
   "outputs": [],
   "source": [
    "from sklearn.tree import export_graphviz\n",
    "export_graphviz(estimator_limited, out_file='tree_limited.dot', feature_names = iris.feature_names,\n",
    "                class_names = iris.target_names,\n",
    "                rounded = True, proportion = False, precision = 2, filled = True)\n"
   ]
  },
  {
   "cell_type": "code",
   "execution_count": 79,
   "metadata": {},
   "outputs": [],
   "source": [
    "estimator_limited = regressor.estimators_[5]"
   ]
  },
  {
   "cell_type": "code",
   "execution_count": null,
   "metadata": {},
   "outputs": [],
   "source": []
  }
 ],
 "metadata": {
  "kernelspec": {
   "display_name": "Python 3",
   "language": "python",
   "name": "python3"
  },
  "language_info": {
   "codemirror_mode": {
    "name": "ipython",
    "version": 3
   },
   "file_extension": ".py",
   "mimetype": "text/x-python",
   "name": "python",
   "nbconvert_exporter": "python",
   "pygments_lexer": "ipython3",
   "version": "3.6.12"
  }
 },
 "nbformat": 4,
 "nbformat_minor": 4
}
