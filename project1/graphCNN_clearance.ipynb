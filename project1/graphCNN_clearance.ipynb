{
 "cells": [
  {
   "cell_type": "code",
   "execution_count": 56,
   "metadata": {
    "scrolled": true
   },
   "outputs": [],
   "source": [
    "from __future__ import print_function\n",
    "from __future__ import division\n",
    "from __future__ import unicode_literals\n",
    "\n",
    "import numpy as np\n",
    "import deepchem as dc\n",
    "from deepchem.molnet import load_delaney\n",
    "from deepchem.models import GraphConvModel\n",
    "import tensorflow as tf\n",
    "import numpy as np\n",
    "import matplotlib.pyplot as plt\n"
   ]
  },
  {
   "cell_type": "markdown",
   "metadata": {},
   "source": [
    "#Setting up model"
   ]
  },
  {
   "cell_type": "code",
   "execution_count": 103,
   "metadata": {},
   "outputs": [
    {
     "name": "stdout",
     "output_type": "stream",
     "text": [
      "Loading raw samples now.\n",
      "shard_size: 8192\n",
      "About to start loading CSV from ../../../project1_data/Series4_full_clearanceOnly.csv\n",
      "Loading shard 1 of size 8192.\n",
      "Featurizing sample 0\n",
      "TIMING: featurizing shard 0 took 0.415 s\n",
      "TIMING: dataset construction took 0.525 s\n",
      "Loading dataset from disk.\n",
      "About to transform data\n",
      "TIMING: dataset construction took 0.086 s\n",
      "Loading dataset from disk.\n",
      "TIMING: dataset construction took 0.071 s\n",
      "Loading dataset from disk.\n",
      "TIMING: dataset construction took 0.047 s\n",
      "Loading dataset from disk.\n",
      "TIMING: dataset construction took 0.037 s\n",
      "Loading dataset from disk.\n"
     ]
    },
    {
     "data": {
      "text/plain": [
       "deepchem.data.datasets.DiskDataset"
      ]
     },
     "execution_count": 103,
     "metadata": {},
     "output_type": "execute_result"
    }
   ],
   "source": [
    "##input malaria file\n",
    "# delaney_tasks = ['Desired_property']\n",
    "delaney_tasks = ['clearance']\n",
    "\n",
    "featurizer = dc.feat.ConvMolFeaturizer()\n",
    "# featurizer = dc.feat.RDKitDescriptors()\n",
    "\n",
    "input_dataset = '../../../project1_data/Series4_full_clearanceOnly.csv'\n",
    "\n",
    "loader = dc.data.CSVLoader(tasks=delaney_tasks, smiles_field=\"SMILES\", featurizer=featurizer)\n",
    "dataset = loader.featurize(input_dataset, shard_size=8192)\n",
    "\n",
    "# Options of transformers\n",
    "# dc.trans.LogTransformer\n",
    "# dc.trans.ClippingTransformer\n",
    "# dc.trans.NormalizationTransformer\n",
    "# dc.trans.AtomicNormalizationTransformer\n",
    "# dc.trans.BalancingTransformer\n",
    "# dc.trans.CDFTransformer\n",
    "# dc.trans.PowerTransformer\n",
    "# dc.trans.CoulombRandomizationTransformer\n",
    "# dc.trans.CoulombBinarizationTransformer\n",
    "\n",
    "\n",
    "# Initialize transformers\n",
    "transformers = [\n",
    "  dc.trans.NormalizationTransformer(\n",
    "      transform_y=True, dataset=dataset)\n",
    "]\n",
    "\n",
    "# transformers = [\n",
    "#   dc.trans.BalancingTransformer(dataset=dataset)\n",
    "# ]\n",
    "\n",
    "print(\"About to transform data\")\n",
    "for transformer in transformers:\n",
    "    dataset = transformer.transform(dataset)\n",
    "\n",
    "# splitters = {\n",
    "#   'index': dc.splits.IndexSplitter(),\n",
    "#   'random': dc.splits.RandomSplitter(),\n",
    "#   'scaffold': dc.splits.ScaffoldSplitter()\n",
    "# }\n",
    "splitter = dc.splits.IndexSplitter()\n",
    "train_dataset, valid_dataset, test_dataset = splitter.train_valid_test_split(dataset, \n",
    "                                                                            frac_train = 0.8, \n",
    "                                                                             frac_valid  = 0.1, \n",
    "                                                                             frac_test  = 0.1\n",
    "                                                                            )\n",
    "type(train_dataset)"
   ]
  },
  {
   "cell_type": "code",
   "execution_count": 104,
   "metadata": {},
   "outputs": [
    {
     "name": "stdout",
     "output_type": "stream",
     "text": [
      "WARNING:tensorflow:Entity <bound method GraphConv.call of <deepchem.models.layers.GraphConv object at 0x7fd0fcb5a588>> could not be transformed and will be executed as-is. Please report this to the AutgoGraph team. When filing the bug, set the verbosity to 10 (on Linux, `export AUTOGRAPH_VERBOSITY=10`) and attach the full output. Cause: converting <bound method GraphConv.call of <deepchem.models.layers.GraphConv object at 0x7fd0fcb5a588>>: AttributeError: module 'gast' has no attribute 'Index'\n",
      "WARNING: Entity <bound method GraphConv.call of <deepchem.models.layers.GraphConv object at 0x7fd0fcb5a588>> could not be transformed and will be executed as-is. Please report this to the AutgoGraph team. When filing the bug, set the verbosity to 10 (on Linux, `export AUTOGRAPH_VERBOSITY=10`) and attach the full output. Cause: converting <bound method GraphConv.call of <deepchem.models.layers.GraphConv object at 0x7fd0fcb5a588>>: AttributeError: module 'gast' has no attribute 'Index'\n",
      "WARNING:tensorflow:Entity <bound method GraphPool.call of <deepchem.models.layers.GraphPool object at 0x7fd108e619b0>> could not be transformed and will be executed as-is. Please report this to the AutgoGraph team. When filing the bug, set the verbosity to 10 (on Linux, `export AUTOGRAPH_VERBOSITY=10`) and attach the full output. Cause: converting <bound method GraphPool.call of <deepchem.models.layers.GraphPool object at 0x7fd108e619b0>>: AttributeError: module 'gast' has no attribute 'Index'\n",
      "WARNING: Entity <bound method GraphPool.call of <deepchem.models.layers.GraphPool object at 0x7fd108e619b0>> could not be transformed and will be executed as-is. Please report this to the AutgoGraph team. When filing the bug, set the verbosity to 10 (on Linux, `export AUTOGRAPH_VERBOSITY=10`) and attach the full output. Cause: converting <bound method GraphPool.call of <deepchem.models.layers.GraphPool object at 0x7fd108e619b0>>: AttributeError: module 'gast' has no attribute 'Index'\n",
      "WARNING:tensorflow:Entity <bound method GraphConv.call of <deepchem.models.layers.GraphConv object at 0x7fd10314ccf8>> could not be transformed and will be executed as-is. Please report this to the AutgoGraph team. When filing the bug, set the verbosity to 10 (on Linux, `export AUTOGRAPH_VERBOSITY=10`) and attach the full output. Cause: converting <bound method GraphConv.call of <deepchem.models.layers.GraphConv object at 0x7fd10314ccf8>>: AttributeError: module 'gast' has no attribute 'Index'\n",
      "WARNING: Entity <bound method GraphConv.call of <deepchem.models.layers.GraphConv object at 0x7fd10314ccf8>> could not be transformed and will be executed as-is. Please report this to the AutgoGraph team. When filing the bug, set the verbosity to 10 (on Linux, `export AUTOGRAPH_VERBOSITY=10`) and attach the full output. Cause: converting <bound method GraphConv.call of <deepchem.models.layers.GraphConv object at 0x7fd10314ccf8>>: AttributeError: module 'gast' has no attribute 'Index'\n",
      "WARNING:tensorflow:Entity <bound method GraphPool.call of <deepchem.models.layers.GraphPool object at 0x7fd0ed501198>> could not be transformed and will be executed as-is. Please report this to the AutgoGraph team. When filing the bug, set the verbosity to 10 (on Linux, `export AUTOGRAPH_VERBOSITY=10`) and attach the full output. Cause: converting <bound method GraphPool.call of <deepchem.models.layers.GraphPool object at 0x7fd0ed501198>>: AttributeError: module 'gast' has no attribute 'Index'\n",
      "WARNING: Entity <bound method GraphPool.call of <deepchem.models.layers.GraphPool object at 0x7fd0ed501198>> could not be transformed and will be executed as-is. Please report this to the AutgoGraph team. When filing the bug, set the verbosity to 10 (on Linux, `export AUTOGRAPH_VERBOSITY=10`) and attach the full output. Cause: converting <bound method GraphPool.call of <deepchem.models.layers.GraphPool object at 0x7fd0ed501198>>: AttributeError: module 'gast' has no attribute 'Index'\n",
      "WARNING:tensorflow:Entity <bound method GraphGather.call of <deepchem.models.layers.GraphGather object at 0x7fd0ed7fc748>> could not be transformed and will be executed as-is. Please report this to the AutgoGraph team. When filing the bug, set the verbosity to 10 (on Linux, `export AUTOGRAPH_VERBOSITY=10`) and attach the full output. Cause: converting <bound method GraphGather.call of <deepchem.models.layers.GraphGather object at 0x7fd0ed7fc748>>: AttributeError: module 'gast' has no attribute 'Index'\n",
      "WARNING: Entity <bound method GraphGather.call of <deepchem.models.layers.GraphGather object at 0x7fd0ed7fc748>> could not be transformed and will be executed as-is. Please report this to the AutgoGraph team. When filing the bug, set the verbosity to 10 (on Linux, `export AUTOGRAPH_VERBOSITY=10`) and attach the full output. Cause: converting <bound method GraphGather.call of <deepchem.models.layers.GraphGather object at 0x7fd0ed7fc748>>: AttributeError: module 'gast' has no attribute 'Index'\n",
      "WARNING:tensorflow:Entity <bound method TrimGraphOutput.call of <deepchem.models.graph_models.TrimGraphOutput object at 0x7fd11330e358>> could not be transformed and will be executed as-is. Please report this to the AutgoGraph team. When filing the bug, set the verbosity to 10 (on Linux, `export AUTOGRAPH_VERBOSITY=10`) and attach the full output. Cause: converting <bound method TrimGraphOutput.call of <deepchem.models.graph_models.TrimGraphOutput object at 0x7fd11330e358>>: AttributeError: module 'gast' has no attribute 'Index'\n",
      "WARNING: Entity <bound method TrimGraphOutput.call of <deepchem.models.graph_models.TrimGraphOutput object at 0x7fd11330e358>> could not be transformed and will be executed as-is. Please report this to the AutgoGraph team. When filing the bug, set the verbosity to 10 (on Linux, `export AUTOGRAPH_VERBOSITY=10`) and attach the full output. Cause: converting <bound method TrimGraphOutput.call of <deepchem.models.graph_models.TrimGraphOutput object at 0x7fd11330e358>>: AttributeError: module 'gast' has no attribute 'Index'\n"
     ]
    }
   ],
   "source": [
    "# Load Delaney dataset\n",
    "# delaney_tasks, delaney_datasets, transformers = load_delaney(\n",
    "#     featurizer='GraphConv', split='index')\n",
    "# train_dataset, valid_dataset, test_dataset = dataset\n",
    "\n",
    "# Fit models\n",
    "metric = dc.metrics.Metric(dc.metrics.pearson_r2_score, np.mean)\n",
    "\n",
    "# Do setup required for tf/keras models\n",
    "# Number of features on conv-mols\n",
    "n_feat = 100\n",
    "# Batch size of models\n",
    "batch_size = 70\n",
    "model = GraphConvModel(\n",
    "    len(delaney_tasks), \n",
    "#     graph_conv_layers=[128,128],\n",
    "#     dense_layer_size=256,\n",
    "    batch_size=batch_size, mode='regression')\n"
   ]
  },
  {
   "cell_type": "code",
   "execution_count": 105,
   "metadata": {},
   "outputs": [
    {
     "name": "stdout",
     "output_type": "stream",
     "text": [
      "training data length 204\n",
      "validation data length 26\n",
      "test data length 26\n"
     ]
    }
   ],
   "source": [
    "print(\"training data length\", len(train_dataset))\n",
    "print(\"validation data length\", len(test_dataset))\n",
    "print(\"test data length\", len(test_dataset))"
   ]
  },
  {
   "cell_type": "markdown",
   "metadata": {},
   "source": [
    "##Train model"
   ]
  },
  {
   "cell_type": "code",
   "execution_count": 106,
   "metadata": {},
   "outputs": [
    {
     "name": "stdout",
     "output_type": "stream",
     "text": [
      "0\n",
      "WARNING:tensorflow:Entity <bound method GraphConv.call of <deepchem.models.layers.GraphConv object at 0x7fd0fcb5a588>> could not be transformed and will be executed as-is. Please report this to the AutgoGraph team. When filing the bug, set the verbosity to 10 (on Linux, `export AUTOGRAPH_VERBOSITY=10`) and attach the full output. Cause: converting <bound method GraphConv.call of <deepchem.models.layers.GraphConv object at 0x7fd0fcb5a588>>: AttributeError: module 'gast' has no attribute 'Index'\n",
      "WARNING: Entity <bound method GraphConv.call of <deepchem.models.layers.GraphConv object at 0x7fd0fcb5a588>> could not be transformed and will be executed as-is. Please report this to the AutgoGraph team. When filing the bug, set the verbosity to 10 (on Linux, `export AUTOGRAPH_VERBOSITY=10`) and attach the full output. Cause: converting <bound method GraphConv.call of <deepchem.models.layers.GraphConv object at 0x7fd0fcb5a588>>: AttributeError: module 'gast' has no attribute 'Index'\n",
      "WARNING:tensorflow:Entity <bound method GraphPool.call of <deepchem.models.layers.GraphPool object at 0x7fd108e619b0>> could not be transformed and will be executed as-is. Please report this to the AutgoGraph team. When filing the bug, set the verbosity to 10 (on Linux, `export AUTOGRAPH_VERBOSITY=10`) and attach the full output. Cause: converting <bound method GraphPool.call of <deepchem.models.layers.GraphPool object at 0x7fd108e619b0>>: AttributeError: module 'gast' has no attribute 'Index'\n",
      "WARNING: Entity <bound method GraphPool.call of <deepchem.models.layers.GraphPool object at 0x7fd108e619b0>> could not be transformed and will be executed as-is. Please report this to the AutgoGraph team. When filing the bug, set the verbosity to 10 (on Linux, `export AUTOGRAPH_VERBOSITY=10`) and attach the full output. Cause: converting <bound method GraphPool.call of <deepchem.models.layers.GraphPool object at 0x7fd108e619b0>>: AttributeError: module 'gast' has no attribute 'Index'\n",
      "WARNING:tensorflow:Entity <bound method GraphConv.call of <deepchem.models.layers.GraphConv object at 0x7fd10314ccf8>> could not be transformed and will be executed as-is. Please report this to the AutgoGraph team. When filing the bug, set the verbosity to 10 (on Linux, `export AUTOGRAPH_VERBOSITY=10`) and attach the full output. Cause: converting <bound method GraphConv.call of <deepchem.models.layers.GraphConv object at 0x7fd10314ccf8>>: AttributeError: module 'gast' has no attribute 'Index'\n",
      "WARNING: Entity <bound method GraphConv.call of <deepchem.models.layers.GraphConv object at 0x7fd10314ccf8>> could not be transformed and will be executed as-is. Please report this to the AutgoGraph team. When filing the bug, set the verbosity to 10 (on Linux, `export AUTOGRAPH_VERBOSITY=10`) and attach the full output. Cause: converting <bound method GraphConv.call of <deepchem.models.layers.GraphConv object at 0x7fd10314ccf8>>: AttributeError: module 'gast' has no attribute 'Index'\n",
      "WARNING:tensorflow:Entity <bound method GraphPool.call of <deepchem.models.layers.GraphPool object at 0x7fd0ed501198>> could not be transformed and will be executed as-is. Please report this to the AutgoGraph team. When filing the bug, set the verbosity to 10 (on Linux, `export AUTOGRAPH_VERBOSITY=10`) and attach the full output. Cause: converting <bound method GraphPool.call of <deepchem.models.layers.GraphPool object at 0x7fd0ed501198>>: AttributeError: module 'gast' has no attribute 'Index'\n",
      "WARNING: Entity <bound method GraphPool.call of <deepchem.models.layers.GraphPool object at 0x7fd0ed501198>> could not be transformed and will be executed as-is. Please report this to the AutgoGraph team. When filing the bug, set the verbosity to 10 (on Linux, `export AUTOGRAPH_VERBOSITY=10`) and attach the full output. Cause: converting <bound method GraphPool.call of <deepchem.models.layers.GraphPool object at 0x7fd0ed501198>>: AttributeError: module 'gast' has no attribute 'Index'\n",
      "WARNING:tensorflow:Entity <bound method GraphGather.call of <deepchem.models.layers.GraphGather object at 0x7fd0ed7fc748>> could not be transformed and will be executed as-is. Please report this to the AutgoGraph team. When filing the bug, set the verbosity to 10 (on Linux, `export AUTOGRAPH_VERBOSITY=10`) and attach the full output. Cause: converting <bound method GraphGather.call of <deepchem.models.layers.GraphGather object at 0x7fd0ed7fc748>>: AttributeError: module 'gast' has no attribute 'Index'\n",
      "WARNING: Entity <bound method GraphGather.call of <deepchem.models.layers.GraphGather object at 0x7fd0ed7fc748>> could not be transformed and will be executed as-is. Please report this to the AutgoGraph team. When filing the bug, set the verbosity to 10 (on Linux, `export AUTOGRAPH_VERBOSITY=10`) and attach the full output. Cause: converting <bound method GraphGather.call of <deepchem.models.layers.GraphGather object at 0x7fd0ed7fc748>>: AttributeError: module 'gast' has no attribute 'Index'\n",
      "WARNING:tensorflow:Entity <bound method TrimGraphOutput.call of <deepchem.models.graph_models.TrimGraphOutput object at 0x7fd11330e358>> could not be transformed and will be executed as-is. Please report this to the AutgoGraph team. When filing the bug, set the verbosity to 10 (on Linux, `export AUTOGRAPH_VERBOSITY=10`) and attach the full output. Cause: converting <bound method TrimGraphOutput.call of <deepchem.models.graph_models.TrimGraphOutput object at 0x7fd11330e358>>: AttributeError: module 'gast' has no attribute 'Index'\n",
      "WARNING: Entity <bound method TrimGraphOutput.call of <deepchem.models.graph_models.TrimGraphOutput object at 0x7fd11330e358>> could not be transformed and will be executed as-is. Please report this to the AutgoGraph team. When filing the bug, set the verbosity to 10 (on Linux, `export AUTOGRAPH_VERBOSITY=10`) and attach the full output. Cause: converting <bound method TrimGraphOutput.call of <deepchem.models.graph_models.TrimGraphOutput object at 0x7fd11330e358>>: AttributeError: module 'gast' has no attribute 'Index'\n",
      "computed_metrics: [0.010628794891059383]\n",
      "computed_metrics: [0.00022408204310627152]\n",
      "computed_metrics: [0.00010532834327145528]\n",
      "5\n"
     ]
    },
    {
     "name": "stderr",
     "output_type": "stream",
     "text": [
      "/Users/KHatti001/opt/anaconda3/envs/chem_ml/lib/python3.6/site-packages/tensorflow/python/ops/gradients_util.py:93: UserWarning: Converting sparse IndexedSlices to a dense Tensor of unknown shape. This may consume a large amount of memory.\n",
      "  \"Converting sparse IndexedSlices to a dense Tensor of unknown shape. \"\n",
      "/Users/KHatti001/opt/anaconda3/envs/chem_ml/lib/python3.6/site-packages/tensorflow/python/ops/gradients_util.py:93: UserWarning: Converting sparse IndexedSlices to a dense Tensor of unknown shape. This may consume a large amount of memory.\n",
      "  \"Converting sparse IndexedSlices to a dense Tensor of unknown shape. \"\n",
      "/Users/KHatti001/opt/anaconda3/envs/chem_ml/lib/python3.6/site-packages/tensorflow/python/ops/gradients_util.py:93: UserWarning: Converting sparse IndexedSlices to a dense Tensor of unknown shape. This may consume a large amount of memory.\n",
      "  \"Converting sparse IndexedSlices to a dense Tensor of unknown shape. \"\n"
     ]
    },
    {
     "name": "stdout",
     "output_type": "stream",
     "text": [
      "computed_metrics: [0.2187743227678761]\n",
      "computed_metrics: [0.4458476904936493]\n",
      "computed_metrics: [0.008263745722682679]\n",
      "10\n",
      "computed_metrics: [0.34886280962129296]\n",
      "computed_metrics: [0.254349707003147]\n",
      "computed_metrics: [0.0032669166267172973]\n",
      "15\n",
      "computed_metrics: [0.5978740627079512]\n",
      "computed_metrics: [0.2139369128788254]\n",
      "computed_metrics: [0.030987378976594326]\n",
      "20\n",
      "computed_metrics: [0.7805261887902167]\n",
      "computed_metrics: [0.33272140607353523]\n",
      "computed_metrics: [0.06305928848995518]\n",
      "25\n",
      "computed_metrics: [0.8843484533499691]\n",
      "computed_metrics: [0.4446037255528329]\n",
      "computed_metrics: [0.02850494952678298]\n",
      "30\n",
      "computed_metrics: [0.9352892784561372]\n",
      "computed_metrics: [0.5202236565218409]\n",
      "computed_metrics: [0.022281485508488613]\n",
      "35\n",
      "computed_metrics: [0.9664418461924444]\n",
      "computed_metrics: [0.6956560282235185]\n",
      "computed_metrics: [0.021097872181791318]\n",
      "40\n",
      "computed_metrics: [0.9771005885990764]\n",
      "computed_metrics: [0.7239253831149026]\n",
      "computed_metrics: [0.021551815186007076]\n",
      "45\n",
      "computed_metrics: [0.983198023883664]\n",
      "computed_metrics: [0.7329796145513312]\n",
      "computed_metrics: [0.02269301866831316]\n",
      "[0, 5, 10, 15, 20, 25, 30, 35, 40, 45]\n",
      "[0.00022408204310627152, 0.4458476904936493, 0.254349707003147, 0.2139369128788254, 0.33272140607353523, 0.4446037255528329, 0.5202236565218409, 0.6956560282235185, 0.7239253831149026, 0.7329796145513312]\n",
      "[0.010628794891059383, 0.2187743227678761, 0.34886280962129296, 0.5978740627079512, 0.7805261887902167, 0.8843484533499691, 0.9352892784561372, 0.9664418461924444, 0.9771005885990764, 0.983198023883664]\n"
     ]
    },
    {
     "data": {
      "text/plain": [
       "<matplotlib.legend.Legend at 0x7fd0ccbc66d8>"
      ]
     },
     "execution_count": 106,
     "metadata": {},
     "output_type": "execute_result"
    },
    {
     "data": {
      "image/png": "[encoded data removed]",
      "text/plain": [
       "<Figure size 432x288 with 1 Axes>"
      ]
     },
     "metadata": {
      "needs_background": "light"
     },
     "output_type": "display_data"
    }
   ],
   "source": [
    "# Fit trained model\n",
    "def run_and_store_results(nb_epoch_value):\n",
    "    scoring_function_used = \"mean-pearson_r2_score\"\n",
    "#     scoring_function_used = \"r2_score\"\n",
    "    model.fit(train_dataset, nb_epoch=nb_epoch_value)\n",
    "\n",
    "#     print(\"Evaluating model\")\n",
    "    train_scores =  model.evaluate(train_dataset, [metric], transformers)\n",
    "    valid_scores = model.evaluate(valid_dataset, [metric], transformers)\n",
    "    test_scores = model.evaluate(test_dataset, [metric], transformers)\n",
    "#     print(\"printing some value\", train_scores[scoring_function_used])\n",
    "    return train_scores[scoring_function_used],valid_scores[scoring_function_used], test_scores[scoring_function_used]\n",
    "\n",
    "#     print(\"Train scores\")\n",
    "#     print(train_scores)\n",
    "\n",
    "#     print(\"Validation scores\")\n",
    "#     print(valid_scores)\n",
    "\n",
    "# model.restore()\n",
    "\n",
    "valid_scores_list=[]\n",
    "train_scores_list=[]\n",
    "test_scores_list=[]\n",
    "epoch_inputs_list=[]\n",
    "\n",
    "for nb_epoch_value in range(0,50,5):\n",
    "# for nb_epoch_value in [5,20]:\n",
    "    print (nb_epoch_value)\n",
    "    train_scores,valid_scores, test_scores = run_and_store_results(nb_epoch_value)\n",
    "    epoch_inputs_list.append(nb_epoch_value)\n",
    "    valid_scores_list.append(valid_scores)\n",
    "    test_scores_list.append(test_scores)\n",
    "    train_scores_list.append(train_scores)\n",
    "    \n",
    "print(epoch_inputs_list)\n",
    "print(valid_scores_list)\n",
    "print(train_scores_list)\n",
    "\n",
    "plt.plot(epoch_inputs_list, valid_scores_list, label=\"validation\")\n",
    "plt.plot(epoch_inputs_list, train_scores_list, label=\"training\")\n",
    "plt.plot(epoch_inputs_list, test_scores_list, label=\"test\")\n",
    "plt.legend()\n",
    "# dir(train_scores)\n",
    "# print(dic[\"C\"])\n",
    "# print(valid_scores[\"mean-pearson_r2_score\"])"
   ]
  },
  {
   "cell_type": "code",
   "execution_count": 91,
   "metadata": {},
   "outputs": [
    {
     "data": {
      "text/plain": [
       "<matplotlib.legend.Legend at 0x7fd11cec2860>"
      ]
     },
     "execution_count": 91,
     "metadata": {},
     "output_type": "execute_result"
    },
    {
     "data": {
      "image/png": "[encoded data removed]",
      "text/plain": [
       "<Figure size 432x288 with 1 Axes>"
      ]
     },
     "metadata": {
      "needs_background": "light"
     },
     "output_type": "display_data"
    }
   ],
   "source": [
    "plt.plot(epoch_inputs_list, valid_scores_list, label=\"validation\")\n",
    "plt.plot(epoch_inputs_list, train_scores_list, label=\"training\")\n",
    "plt.plot(epoch_inputs_list, test_scores_list, label=\"test\")\n",
    "plt.legend()"
   ]
  },
  {
   "cell_type": "code",
   "execution_count": null,
   "metadata": {},
   "outputs": [],
   "source": [
    "model.save()\n",
    "model = model.load_from_dir('models')\n",
    "valid_scores = model.evaluate(valid_dataset, [metric], transformers)"
   ]
  },
  {
   "cell_type": "code",
   "execution_count": 50,
   "metadata": {},
   "outputs": [],
   "source": [
    "jinga=[]\n",
    "jinga.append(10)"
   ]
  },
  {
   "cell_type": "code",
   "execution_count": 51,
   "metadata": {},
   "outputs": [
    {
     "data": {
      "text/plain": [
       "[10]"
      ]
     },
     "execution_count": 51,
     "metadata": {},
     "output_type": "execute_result"
    }
   ],
   "source": [
    "jinga"
   ]
  },
  {
   "cell_type": "code",
   "execution_count": null,
   "metadata": {},
   "outputs": [],
   "source": []
  }
 ],
 "metadata": {
  "kernelspec": {
   "display_name": "Python 3",
   "language": "python",
   "name": "python3"
  },
  "language_info": {
   "codemirror_mode": {
    "name": "ipython",
    "version": 3
   },
   "file_extension": ".py",
   "mimetype": "text/x-python",
   "name": "python",
   "nbconvert_exporter": "python",
   "pygments_lexer": "ipython3",
   "version": "3.6.12"
  }
 },
 "nbformat": 4,
 "nbformat_minor": 4
}
