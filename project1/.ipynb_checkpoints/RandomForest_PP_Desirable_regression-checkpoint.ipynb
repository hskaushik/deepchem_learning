{
 "cells": [
  {
   "cell_type": "code",
   "execution_count": 166,
   "metadata": {},
   "outputs": [],
   "source": [
    "import pandas as pd\n",
    "import numpy as np\n",
    "\n",
    "from rdkit import Chem\n",
    "from rdkit.Chem import Draw\n",
    "from rdkit.Chem import PandasTools\n",
    "from rdkit.Chem.Draw import IPythonConsole\n",
    "from rdkit.Chem import AllChem\n",
    "from rdkit.Chem import rdFingerprintGenerator\n",
    "from rdkit import DataStructs\n",
    "from rdkit.Chem import MACCSkeys\n",
    "from rdkit.Chem.Fingerprints import FingerprintMols\n",
    "import matplotlib.pyplot as plt\n",
    "\n",
    "from descriptastorus.descriptors.DescriptorGenerator import MakeGenerator\n",
    "#https://github.com/bp-kelley/descriptastorus\n"
   ]
  },
  {
   "cell_type": "markdown",
   "metadata": {},
   "source": [
    "# Input both test/training dataset "
   ]
  },
  {
   "cell_type": "code",
   "execution_count": 167,
   "metadata": {},
   "outputs": [],
   "source": [
    "full_copy = pd.read_csv('../../../project1_data/Series4_full.csv', index_col = 'ID')\n",
    "# full_copy.head()\n",
    "PandasTools.AddMoleculeColumnToFrame(full_copy,smilesCol='SMILES')\n",
    "# full_copy.head()"
   ]
  },
  {
   "cell_type": "markdown",
   "metadata": {},
   "source": [
    "# Generating descriptors using RDKit"
   ]
  },
  {
   "cell_type": "code",
   "execution_count": 168,
   "metadata": {},
   "outputs": [],
   "source": [
    "# RDKit\n",
    "generator = MakeGenerator((\"RDKit2D\",))\n",
    "\n",
    "full_copy_rdkit2d = [generator.process(x)[1:] for x in full_copy['SMILES']]"
   ]
  },
  {
   "cell_type": "code",
   "execution_count": 169,
   "metadata": {},
   "outputs": [],
   "source": [
    "rdkit2d_name = []\n",
    "for name, numpy_type in generator.GetColumns():\n",
    "    rdkit2d_name.append(name)\n",
    "    \n",
    "full_copy_rdkit2d_df = pd.DataFrame(full_copy_rdkit2d, index = full_copy.index, columns=rdkit2d_name[1:])"
   ]
  },
  {
   "cell_type": "code",
   "execution_count": 170,
   "metadata": {},
   "outputs": [],
   "source": [
    "# full_copy_rdkit2d_df.head()"
   ]
  },
  {
   "cell_type": "markdown",
   "metadata": {},
   "source": [
    "# MACCS keys "
   ]
  },
  {
   "cell_type": "code",
   "execution_count": 171,
   "metadata": {},
   "outputs": [],
   "source": [
    "# full_copy_MAACS = [MACCSkeys.GenMACCSKeys(x) for x in full_copy['ROMol']]\n",
    "# full_copy_MAACS_list = [list(l) for l in full_copy_MAACS]\n",
    "# maccs_name = [f'Bit_{i}' for i in range(167)]\n",
    "# full_copy_MAACS_df = pd.DataFrame(full_copy_MAACS_list, index = full_copy.index, columns=maccs_name)\n",
    "# full_copy_MAACS_df"
   ]
  },
  {
   "cell_type": "code",
   "execution_count": 172,
   "metadata": {},
   "outputs": [],
   "source": [
    "# Mergind MACCS and RDKit descriptors\n",
    "\n",
    "# full_copy_rdkit2d_df = pd.merge(full_copy_MAACS_df,full_copy_rdkit2d_df,left_on='ID',right_on='ID')\n",
    "# full_copy_rdkit2d_df.shape"
   ]
  },
  {
   "cell_type": "code",
   "execution_count": 173,
   "metadata": {},
   "outputs": [],
   "source": [
    "full_copy_rdkit2d_df.to_csv('../../../project1_data/from_PP/full_copy_rdkit2d_df.csv')"
   ]
  },
  {
   "cell_type": "code",
   "execution_count": 174,
   "metadata": {},
   "outputs": [],
   "source": [
    "TrainTest=full_copy.drop(full_copy[full_copy.desired_type == 'validation'].index)\n",
    "TrainTest.drop(TrainTest[TrainTest.desired_type == 'excluded'].index, inplace=True)\n",
    "# TrainTest.drop(TrainTest[TrainTest.desired_type == 'excluded_subset'].index, inplace=True)\n",
    "\n",
    "# full_copy.shape\n",
    "validation=full_copy.drop(full_copy[full_copy.desired_type == 'TestTrain'].index)\n",
    "validation.drop(validation[validation.desired_type == 'excluded'].index, inplace=True)\n",
    "# validation.drop(validation[validation.desired_type == 'excluded_subset'].index, inplace=True)\n",
    "\n",
    "excluded=full_copy.drop(full_copy[full_copy.desired_type == 'TestTrain'].index)\n",
    "excluded.drop(excluded[excluded.desired_type == 'validation'].index, inplace=True)\n",
    "excluded.drop(excluded[excluded.desired_type == 'excluded'].index, inplace=True)\n",
    "\n",
    "\n",
    "# TrainTest.head()"
   ]
  },
  {
   "cell_type": "markdown",
   "metadata": {},
   "source": [
    "# Including PP data"
   ]
  },
  {
   "cell_type": "code",
   "execution_count": 188,
   "metadata": {},
   "outputs": [
    {
     "data": {
      "text/plain": [
       "(315, 173)"
      ]
     },
     "execution_count": 188,
     "metadata": {},
     "output_type": "execute_result"
    }
   ],
   "source": [
    "full_copy_rdkit2d_df = pd.read_csv('../../../project1_data/from_PP/desirable-database_2020-09-10_ONLY-PPP-descriptors.csv', index_col = 'ID')\n",
    "full_copy_rdkit2d_df.head()\n",
    "allMerged = pd.merge(TrainTest,full_copy_rdkit2d_df,left_on='ID',right_on='ID')\n",
    "allMerged_validation = pd.merge(validation,full_copy_rdkit2d_df,left_on='ID',right_on='ID')\n",
    "allMerged_excluded = pd.merge(excluded,full_copy_rdkit2d_df,left_on='ID',right_on='ID')\n",
    "allMerged.shape"
   ]
  },
  {
   "cell_type": "code",
   "execution_count": 189,
   "metadata": {},
   "outputs": [],
   "source": [
    "allMerged.drop(['type', 'desired_type', 'Cluster member', 'Cluster type', 'ROMol', 'MCS Cluster', 'smiles_stardard'], axis=1, inplace=True)\n",
    "allMerged_validation.drop(['type', 'desired_type', 'Cluster member', 'Cluster type', 'ROMol', 'MCS Cluster', 'smiles_stardard'], axis=1, inplace=True)\n",
    "allMerged_excluded.drop(['type', 'desired_type', 'Cluster member', 'Cluster type', 'ROMol', 'MCS Cluster', 'smiles_stardard'], axis=1, inplace=True)\n",
    "# allMerged.dropna(inplace=True)\n",
    "\n",
    "# allMerged.drop(['desired'], axis=1, inplace=True)\n",
    "# allMerged_validation.drop(['desired'], axis=1, inplace=True)\n",
    "# # allMerged_validation.drop(allMerged_validation[allMerged_validation.clearance < 7].index, inplace=True)\n",
    "# allMerged_excluded.drop(['desired'], axis=1, inplace=True)\n",
    "# allMerged_excluded.drop(allMerged_excluded[allMerged_excluded.clearance < 7].index, inplace=True)\n",
    "\n",
    "allMerged.drop(['clearance'], axis=1, inplace=True)\n",
    "allMerged_validation.drop(['clearance'], axis=1, inplace=True)\n",
    "allMerged_excluded.drop(['clearance'], axis=1, inplace=True)\n",
    "\n",
    "# allMerged.drop(allMerged[allMerged.clearance > 49.9].index, inplace=True)\n",
    "# allMerged.drop(allMerged[allMerged.desired < 4.6].index, inplace=True)\n",
    "# allMerged.drop(allMerged[allMerged.clearance < 0.51].index, inplace=True)\n",
    "# allMerged[allMerged['clearance'] > 49.9 ]\n"
   ]
  },
  {
   "cell_type": "code",
   "execution_count": 185,
   "metadata": {},
   "outputs": [],
   "source": [
    "# allMerged"
   ]
  },
  {
   "cell_type": "markdown",
   "metadata": {},
   "source": [
    "# Random forest "
   ]
  },
  {
   "cell_type": "code",
   "execution_count": 186,
   "metadata": {},
   "outputs": [],
   "source": [
    "X = allMerged.iloc[:, 2:,].values #descreptors\n",
    "y = allMerged.iloc[:, 1].values #desired property\n",
    "# y"
   ]
  },
  {
   "cell_type": "code",
   "execution_count": 187,
   "metadata": {},
   "outputs": [
    {
     "name": "stdout",
     "output_type": "stream",
     "text": [
      "(283, 163)\n",
      "(283, 163)\n",
      "(283, 163)\n",
      "(283, 163)\n",
      "(283, 163)\n",
      "(283, 163)\n",
      "(283, 163)\n",
      "(283, 163)\n",
      "(283, 163)\n",
      "(283, 163)\n",
      "(283, 163)\n",
      "(283, 163)\n",
      "(283, 163)\n",
      "(283, 163)\n",
      "(283, 163)\n",
      "(283, 163)\n",
      "(283, 163)\n",
      "(283, 163)\n",
      "(283, 163)\n",
      "(283, 163)\n",
      "(283, 163)\n",
      "(283, 163)\n",
      "(283, 163)\n",
      "(283, 163)\n",
      "(283, 163)\n",
      "(283, 163)\n",
      "(283, 163)\n",
      "(283, 163)\n",
      "(283, 163)\n",
      "(283, 163)\n",
      "(283, 163)\n",
      "(283, 163)\n",
      "(283, 163)\n",
      "(283, 163)\n",
      "(283, 163)\n",
      "(283, 163)\n",
      "(283, 163)\n",
      "(283, 163)\n",
      "(283, 163)\n",
      "(283, 163)\n",
      "(283, 163)\n",
      "(283, 163)\n",
      "(283, 163)\n",
      "(283, 163)\n",
      "(283, 163)\n",
      "(283, 163)\n",
      "(283, 163)\n",
      "(283, 163)\n",
      "(283, 163)\n",
      "(283, 163)\n",
      "[0, 1, 2, 3, 4, 5, 6, 7, 8, 9, 10, 11, 12, 13, 14, 15, 16, 17, 18, 19, 20, 21, 22, 23, 24, 25, 26, 27, 28, 29, 30, 31, 32, 33, 34, 35, 36, 37, 38, 39, 40, 41, 42, 43, 44, 45, 46, 47, 48, 49]\n",
      "[0.2615882138612552, 0.09300921871122836, 0.11346666099974001, 0.3334521961523236, 0.2700254616133708, 0.24101035480308863, 0.3352765389344099, -0.04783680280204461, 0.07620929744085947, 0.18502999426821853, 0.4005021180489666, 0.3206243165833522, 0.2676867560012399, -0.13997982133882525, 0.23497177566177152, 0.4676082840002578, 0.20719349661635011, 0.10200779859477715, 0.3753840318682947, 0.15993038894752842, 0.06106581268028122, 0.20291922663715467, 0.2693573367441894, 0.45830398426097574, 0.07356885570031013, 0.03258793634298862, -0.01014902238808868, 0.21439520539241952, -0.19690641904218142, 0.316977730032316, -0.1305219088807521, -0.05152870395635745, 0.15004793114679815, 0.19819614047933398, 0.06374444477047003, -0.07293833153390361, 0.38086394100873044, 0.07630254926980096, 0.28953246886800477, 0.1030278777030047, 0.18713806891208817, 0.08010617131112696, 0.39305722122897735, -0.34554518060288597, 0.2293212463204347, 0.27840226726374406, 0.4217822462674925, 0.023865260658971987, -0.1296052134287533, 0.4768017309617779]\n"
     ]
    }
   ],
   "source": [
    "# print(X.shape)\n",
    "# print(y)\n",
    "from sklearn import metrics\n",
    "from sklearn.metrics import r2_score\n",
    "    \n",
    "r2_list = []\n",
    "random_state_variable_list = []\n",
    "\n",
    "for f in range(0,50,1):\n",
    "\n",
    "    random_state_variable=f\n",
    "    random_state_variable_list.append(f)\n",
    "\n",
    "    from sklearn.model_selection import train_test_split\n",
    "    X_train, X_test, y_train, y_test = train_test_split(X, y, test_size=0.10, random_state=random_state_variable)\n",
    "    print(X_train.shape)\n",
    "    # print(X_test.shape)\n",
    "    # print(y_train.shape)\n",
    "    # print(y_test.shape)\n",
    "\n",
    "    from sklearn.preprocessing import StandardScaler\n",
    "\n",
    "    sc = StandardScaler()\n",
    "    X_train = sc.fit_transform(X_train)\n",
    "    X_test = sc.transform(X_test)\n",
    "    X_train.shape\n",
    "\n",
    "\n",
    "    ### Starting Random Forest fitting\n",
    "\n",
    "    from sklearn.ensemble import RandomForestRegressor\n",
    "\n",
    "    regressor = RandomForestRegressor(n_estimators=60, random_state=random_state_variable)\n",
    "    regressor.fit(X_train, y_train)\n",
    "    y_pred = regressor.predict(X_test)\n",
    "\n",
    "\n",
    "\n",
    "#     print('Mean Absolute Error:', metrics.mean_absolute_error(y_test, y_pred))\n",
    "#     print('Mean Squared Error:', metrics.mean_squared_error(y_test, y_pred))\n",
    "#     print('Root Mean Squared Error:', np.sqrt(metrics.mean_squared_error(y_test, y_pred)))\n",
    "    r2_list.append(r2_score(y_test, y_pred))\n",
    "#     from sklearn.metrics import r2_score\n",
    "#     plt.scatter(y_test, y_pred)\n",
    "#     m, b = np.polyfit(y_test, y_pred, 1)\n",
    "#     plt.plot(y_test, m*y_test + b)\n",
    "#     # plt.axes.set_title()\n",
    "#     plt.title('R2: ' + str(r2_score(y_test, y_pred)))\n",
    "\n",
    "print (random_state_variable_list)\n",
    "print (r2_list)"
   ]
  },
  {
   "cell_type": "code",
   "execution_count": 183,
   "metadata": {},
   "outputs": [
    {
     "data": {
      "text/plain": [
       "Text(0.5, 1.0, 'R2: 0.12220452840428508')"
      ]
     },
     "execution_count": 183,
     "metadata": {},
     "output_type": "execute_result"
    },
    {
     "data": {
      "image/png": "[encoded data removed]",
      "text/plain": [
       "<Figure size 432x288 with 1 Axes>"
      ]
     },
     "metadata": {
      "needs_background": "light"
     },
     "output_type": "display_data"
    }
   ],
   "source": [
    "from sklearn.metrics import r2_score\n",
    "plt.scatter(random_state_variable_list, r2_list)\n",
    "plt.title('R2: ' + str(r2_score(y_test, y_pred)))"
   ]
  },
  {
   "cell_type": "code",
   "execution_count": 132,
   "metadata": {},
   "outputs": [
    {
     "data": {
      "text/plain": [
       "Text(0.5, 1.0, 'R2: 0.0965606418799495')"
      ]
     },
     "execution_count": 132,
     "metadata": {},
     "output_type": "execute_result"
    },
    {
     "data": {
      "image/png": "[encoded data removed]",
      "text/plain": [
       "<Figure size 432x288 with 1 Axes>"
      ]
     },
     "metadata": {
      "needs_background": "light"
     },
     "output_type": "display_data"
    }
   ],
   "source": [
    "from sklearn.metrics import r2_score\n",
    "plt.scatter(random_state_variable_list, r2_list)\n",
    "plt.title('R2: ' + str(r2_score(y_test, y_pred)))"
   ]
  },
  {
   "cell_type": "markdown",
   "metadata": {},
   "source": [
    "# Validation datasets"
   ]
  },
  {
   "cell_type": "code",
   "execution_count": 150,
   "metadata": {},
   "outputs": [
    {
     "data": {
      "text/plain": [
       "(14, 163)"
      ]
     },
     "execution_count": 150,
     "metadata": {},
     "output_type": "execute_result"
    }
   ],
   "source": [
    "X_valid = allMerged_validation.iloc[:, 2:,].values #descreptors\n",
    "y_valid = allMerged_validation.iloc[:, 1].values #desirable 1data\n",
    "\n",
    "# allMerged_excluded.dropna(inplace=True)\n",
    "# X_valid = allMerged_excluded.iloc[:, 2:,].values #descreptors\n",
    "# y_valid = allMerged_excluded.iloc[:, 1].values #desirable data\n",
    "\n",
    "X_valid.shape\n",
    "from sklearn.preprocessing import StandardScaler\n",
    "sc = StandardScaler()\n",
    "X_valid_norm = sc.fit_transform(X_valid)\n",
    "X_valid_norm.shape\n",
    "# allMerged_excluded.dropna(inplace=True)\n",
    "# allMerged_excluded"
   ]
  },
  {
   "cell_type": "code",
   "execution_count": 151,
   "metadata": {},
   "outputs": [
    {
     "name": "stdout",
     "output_type": "stream",
     "text": [
      "Mean Absolute Error: 0.8481440476190486\n",
      "Mean Squared Error: 0.9329446095436523\n",
      "Root Mean Squared Error: 0.9658905784526798\n",
      "XXXXXXXXXXXXXXXXXXXXX\n"
     ]
    },
    {
     "data": {
      "text/plain": [
       "Text(0.5, 1.0, 'R2: -0.775864349100837')"
      ]
     },
     "execution_count": 151,
     "metadata": {},
     "output_type": "execute_result"
    },
    {
     "data": {
      "image/png": "[encoded data removed]",
      "text/plain": [
       "<Figure size 432x288 with 1 Axes>"
      ]
     },
     "metadata": {
      "needs_background": "light"
     },
     "output_type": "display_data"
    }
   ],
   "source": [
    "Y_valid_pred = regressor.predict(X_valid_norm)\n",
    "# print(X_valid_norm)\n",
    "print('Mean Absolute Error:', metrics.mean_absolute_error(y_valid, Y_valid_pred))\n",
    "print('Mean Squared Error:', metrics.mean_squared_error(y_valid, Y_valid_pred))\n",
    "print('Root Mean Squared Error:', np.sqrt(metrics.mean_squared_error(y_valid, Y_valid_pred)))\n",
    "print('XXXXXXXXXXXXXXXXXXXXX')\n",
    "plt.scatter(y_valid, Y_valid_pred)\n",
    "m, b = np.polyfit(y_valid, Y_valid_pred, 1)\n",
    "plt.plot(y_valid, m*y_valid + b)\n",
    "plt.title('R2: ' + str(r2_score(y_valid, Y_valid_pred)))"
   ]
  },
  {
   "cell_type": "markdown",
   "metadata": {},
   "source": [
    "# Visualising leaves"
   ]
  },
  {
   "cell_type": "code",
   "execution_count": null,
   "metadata": {},
   "outputs": [],
   "source": [
    "from sklearn.tree import export_graphviz\n",
    "export_graphviz(estimator_limited, out_file='tree_limited.dot', feature_names = iris.feature_names,\n",
    "                class_names = iris.target_names,\n",
    "                rounded = True, proportion = False, precision = 2, filled = True)\n"
   ]
  },
  {
   "cell_type": "code",
   "execution_count": 79,
   "metadata": {},
   "outputs": [],
   "source": [
    "estimator_limited = regressor.estimators_[5]"
   ]
  },
  {
   "cell_type": "code",
   "execution_count": null,
   "metadata": {},
   "outputs": [],
   "source": []
  }
 ],
 "metadata": {
  "kernelspec": {
   "display_name": "Python 3",
   "language": "python",
   "name": "python3"
  },
  "language_info": {
   "codemirror_mode": {
    "name": "ipython",
    "version": 3
   },
   "file_extension": ".py",
   "mimetype": "text/x-python",
   "name": "python",
   "nbconvert_exporter": "python",
   "pygments_lexer": "ipython3",
   "version": "3.6.12"
  }
 },
 "nbformat": 4,
 "nbformat_minor": 4
}
