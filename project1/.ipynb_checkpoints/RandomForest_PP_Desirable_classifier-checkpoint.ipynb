{
 "cells": [
  {
   "cell_type": "code",
   "execution_count": 16,
   "metadata": {},
   "outputs": [],
   "source": [
    "import pandas as pd\n",
    "import numpy as np\n",
    "\n",
    "from rdkit import Chem\n",
    "from rdkit.Chem import Draw\n",
    "from rdkit.Chem import PandasTools\n",
    "from rdkit.Chem.Draw import IPythonConsole\n",
    "from rdkit.Chem import AllChem\n",
    "from rdkit.Chem import rdFingerprintGenerator\n",
    "from rdkit import DataStructs\n",
    "from rdkit.Chem import MACCSkeys\n",
    "from rdkit.Chem.Fingerprints import FingerprintMols\n",
    "import matplotlib.pyplot as plt\n",
    "\n",
    "import pandas as pd\n",
    "\n",
    "from descriptastorus.descriptors.DescriptorGenerator import MakeGenerator\n",
    "#https://github.com/bp-kelley/descriptastorus\n"
   ]
  },
  {
   "cell_type": "markdown",
   "metadata": {},
   "source": [
    "# Input both test/training dataset "
   ]
  },
  {
   "cell_type": "code",
   "execution_count": 163,
   "metadata": {},
   "outputs": [],
   "source": [
    "full_copy = pd.read_csv('../../../project1_data/Series4_full.csv', index_col = 'ID')\n",
    "\n",
    "# full_copy['class'] = np.where(full_copy.desired >=5 , True, np.where(full_copy.desired < 5, False))\n",
    "\n",
    "full_copy.loc[full_copy['desired'] >=5.5, 'class'] = 'active'\n",
    "full_copy.loc[full_copy['desired'] <5.5, 'class'] = 'inactive'\n",
    "\n",
    "# allMerged.drop(allMerged[allMerged.clearance > 49.9].index, inplace=True)\n",
    "\n",
    "PandasTools.AddMoleculeColumnToFrame(full_copy,smilesCol='SMILES')\n"
   ]
  },
  {
   "cell_type": "code",
   "execution_count": 164,
   "metadata": {},
   "outputs": [
    {
     "data": {
      "text/plain": [
       "<seaborn.axisgrid.FacetGrid at 0x7fe1915592e8>"
      ]
     },
     "execution_count": 164,
     "metadata": {},
     "output_type": "execute_result"
    },
    {
     "data": {
      "image/png": "[encoded data removed]",
      "text/plain": [
       "<Figure size 360x360 with 1 Axes>"
      ]
     },
     "metadata": {
      "needs_background": "light"
     },
     "output_type": "display_data"
    }
   ],
   "source": [
    "# plotting kde for the desired property\n",
    "import seaborn as sns\n",
    "\n",
    "# sns.kdeplot(data=full_copy, x=\"desired\")\n",
    "\n",
    "sns.displot(data=full_copy, x=\"desired\")\n"
   ]
  },
  {
   "cell_type": "markdown",
   "metadata": {},
   "source": [
    "# Generating descriptors using RDKit"
   ]
  },
  {
   "cell_type": "code",
   "execution_count": 165,
   "metadata": {},
   "outputs": [],
   "source": [
    "# RDKit\n",
    "generator = MakeGenerator((\"RDKit2D\",))\n",
    "\n",
    "full_copy_rdkit2d = [generator.process(x)[1:] for x in full_copy['SMILES']]"
   ]
  },
  {
   "cell_type": "code",
   "execution_count": 166,
   "metadata": {},
   "outputs": [],
   "source": [
    "rdkit2d_name = []\n",
    "for name, numpy_type in generator.GetColumns():\n",
    "    rdkit2d_name.append(name)\n",
    "    \n",
    "full_copy_rdkit2d_df = pd.DataFrame(full_copy_rdkit2d, index = full_copy.index, columns=rdkit2d_name[1:])"
   ]
  },
  {
   "cell_type": "code",
   "execution_count": 167,
   "metadata": {},
   "outputs": [],
   "source": [
    "# full_copy_rdkit2d_df.head()"
   ]
  },
  {
   "cell_type": "markdown",
   "metadata": {},
   "source": [
    "# MACCS keys "
   ]
  },
  {
   "cell_type": "code",
   "execution_count": 168,
   "metadata": {},
   "outputs": [],
   "source": [
    "# full_copy_MAACS = [MACCSkeys.GenMACCSKeys(x) for x in full_copy['ROMol']]\n",
    "# full_copy_MAACS_list = [list(l) for l in full_copy_MAACS]\n",
    "# maccs_name = [f'Bit_{i}' for i in range(167)]\n",
    "# full_copy_MAACS_df = pd.DataFrame(full_copy_MAACS_list, index = full_copy.index, columns=maccs_name)\n",
    "# full_copy_MAACS_df"
   ]
  },
  {
   "cell_type": "code",
   "execution_count": 169,
   "metadata": {},
   "outputs": [],
   "source": [
    "# Mergind MACCS and RDKit descriptors\n",
    "\n",
    "# full_copy_rdkit2d_df = pd.merge(full_copy_MAACS_df,full_copy_rdkit2d_df,left_on='ID',right_on='ID')\n",
    "# full_copy_rdkit2d_df.shape"
   ]
  },
  {
   "cell_type": "code",
   "execution_count": 170,
   "metadata": {},
   "outputs": [],
   "source": [
    "full_copy_rdkit2d_df.to_csv('../../../project1_data/from_PP/full_copy_rdkit2d_df.csv')"
   ]
  },
  {
   "cell_type": "code",
   "execution_count": 171,
   "metadata": {},
   "outputs": [],
   "source": [
    "# TrainTest=full_copy.drop(full_copy[full_copy.type == 'validation'].index)\n",
    "# TrainTest.drop(TrainTest[TrainTest.type == 'excluded'].index, inplace=True)\n",
    "# TrainTest.drop(TrainTest[TrainTest.type == 'excluded_subset'].index, inplace=True)\n",
    "\n",
    "# # full_copy.shape\n",
    "# validation=full_copy.drop(full_copy[full_copy.type == 'TestTrain'].index)\n",
    "# validation.drop(validation[validation.type == 'excluded'].index, inplace=True)\n",
    "# validation.drop(validation[validation.type == 'excluded_subset'].index, inplace=True)\n",
    "\n",
    "# excluded=full_copy.drop(full_copy[full_copy.type == 'TestTrain'].index)\n",
    "# excluded.drop(excluded[excluded.type == 'validation'].index, inplace=True)\n",
    "# excluded.drop(excluded[excluded.type == 'excluded'].index, inplace=True)\n",
    "\n",
    "\n",
    "# TrainTest.head()"
   ]
  },
  {
   "cell_type": "markdown",
   "metadata": {},
   "source": [
    "# Including PP data"
   ]
  },
  {
   "cell_type": "code",
   "execution_count": 187,
   "metadata": {},
   "outputs": [
    {
     "data": {
      "text/plain": [
       "(346, 174)"
      ]
     },
     "execution_count": 187,
     "metadata": {},
     "output_type": "execute_result"
    }
   ],
   "source": [
    "full_copy_rdkit2d_df = pd.read_csv('../../../project1_data/from_PP/desirable-database_2020-09-10_ONLY-PPP-descriptors.csv', index_col = 'ID')\n",
    "full_copy_rdkit2d_df.head()\n",
    "# allMerged = pd.merge(TrainTest,full_copy_rdkit2d_df,left_on='ID',right_on='ID')\n",
    "# allMerged_validation = pd.merge(validation,full_copy_rdkit2d_df,left_on='ID',right_on='ID')\n",
    "# allMerged_excluded = pd.merge(excluded,full_copy_rdkit2d_df,left_on='ID',right_on='ID')\n",
    "\n",
    "allMerged = pd.merge(full_copy,full_copy_rdkit2d_df,left_on='ID',right_on='ID')\n",
    "\n",
    "allMerged.shape"
   ]
  },
  {
   "cell_type": "code",
   "execution_count": 188,
   "metadata": {},
   "outputs": [],
   "source": [
    "allMerged.drop(['type', 'Cluster member', 'Cluster type', 'ROMol', 'MCS Cluster', 'smiles_stardard'], axis=1, inplace=True)\n",
    "# allMerged_validation.drop(['type', 'Cluster member', 'Cluster type', 'ROMol', 'MCS Cluster', 'smiles_stardard'], axis=1, inplace=True)\n",
    "# allMerged_excluded.drop(['type', 'Cluster member', 'Cluster type', 'ROMol', 'MCS Cluster', 'smiles_stardard'], axis=1, inplace=True)\n",
    "\n",
    "\n",
    "# allMerged.drop(['desired'], axis=1, inplace=True)\n",
    "# allMerged_validation.drop(['desired'], axis=1, inplace=True)\n",
    "# # allMerged_validation.drop(allMerged_validation[allMerged_validation.clearance < 7].index, inplace=True)\n",
    "# allMerged_excluded.drop(['desired'], axis=1, inplace=True)\n",
    "# allMerged_excluded.drop(allMerged_excluded[allMerged_excluded.clearance < 7].index, inplace=True)\n",
    "\n",
    "allMerged.drop(['clearance','desired_type', 'desired'], axis=1, inplace=True)\n",
    "allMerged.dropna(inplace=True)\n"
   ]
  },
  {
   "cell_type": "code",
   "execution_count": 189,
   "metadata": {},
   "outputs": [
    {
     "data": {
      "text/html": [
       "<div>\n",
       "<style scoped>\n",
       "    .dataframe tbody tr th:only-of-type {\n",
       "        vertical-align: middle;\n",
       "    }\n",
       "\n",
       "    .dataframe tbody tr th {\n",
       "        vertical-align: top;\n",
       "    }\n",
       "\n",
       "    .dataframe thead th {\n",
       "        text-align: right;\n",
       "    }\n",
       "</style>\n",
       "<table border=\"1\" class=\"dataframe\">\n",
       "  <thead>\n",
       "    <tr style=\"text-align: right;\">\n",
       "      <th></th>\n",
       "      <th>SMILES</th>\n",
       "      <th>class</th>\n",
       "      <th>logS_SD</th>\n",
       "      <th>logS_7_4</th>\n",
       "      <th>logP_SD</th>\n",
       "      <th>logD_SD</th>\n",
       "      <th>2C9_pKi</th>\n",
       "      <th>hERG</th>\n",
       "      <th>BBB_log_SD</th>\n",
       "      <th>BBB</th>\n",
       "      <th>...</th>\n",
       "      <th>RotBonds</th>\n",
       "      <th>ALogP</th>\n",
       "      <th>ALogP_MR</th>\n",
       "      <th>Wiener</th>\n",
       "      <th>Zagreb</th>\n",
       "      <th>Num_H_Acceptors</th>\n",
       "      <th>Num_H_Donors</th>\n",
       "      <th>Molecular_Volume</th>\n",
       "      <th>Molecular_SurfaceArea</th>\n",
       "      <th>Molecular_PolarSurfaceArea</th>\n",
       "    </tr>\n",
       "    <tr>\n",
       "      <th>ID</th>\n",
       "      <th></th>\n",
       "      <th></th>\n",
       "      <th></th>\n",
       "      <th></th>\n",
       "      <th></th>\n",
       "      <th></th>\n",
       "      <th></th>\n",
       "      <th></th>\n",
       "      <th></th>\n",
       "      <th></th>\n",
       "      <th></th>\n",
       "      <th></th>\n",
       "      <th></th>\n",
       "      <th></th>\n",
       "      <th></th>\n",
       "      <th></th>\n",
       "      <th></th>\n",
       "      <th></th>\n",
       "      <th></th>\n",
       "      <th></th>\n",
       "      <th></th>\n",
       "    </tr>\n",
       "  </thead>\n",
       "  <tbody>\n",
       "    <tr>\n",
       "      <th>DDD02153544</th>\n",
       "      <td>C1CC(CCn2cncn2)CN(C1)c1snc2ccccc12</td>\n",
       "      <td>active</td>\n",
       "      <td>2.456</td>\n",
       "      <td>1.713</td>\n",
       "      <td>3.441</td>\n",
       "      <td>1.954</td>\n",
       "      <td>4.946</td>\n",
       "      <td>6.168</td>\n",
       "      <td>-0.440</td>\n",
       "      <td>0.75</td>\n",
       "      <td>...</td>\n",
       "      <td>4</td>\n",
       "      <td>3.086</td>\n",
       "      <td>92.432</td>\n",
       "      <td>1130</td>\n",
       "      <td>118</td>\n",
       "      <td>4</td>\n",
       "      <td>0</td>\n",
       "      <td>244.21</td>\n",
       "      <td>315.30</td>\n",
       "      <td>75.08</td>\n",
       "    </tr>\n",
       "    <tr>\n",
       "      <th>DDD01868260</th>\n",
       "      <td>C1C[C@H](CN(C1)c1snc2ccccc12)Cn1ccnc1</td>\n",
       "      <td>active</td>\n",
       "      <td>2.169</td>\n",
       "      <td>1.324</td>\n",
       "      <td>3.645</td>\n",
       "      <td>2.041</td>\n",
       "      <td>5.047</td>\n",
       "      <td>6.095</td>\n",
       "      <td>-0.307</td>\n",
       "      <td>0.17</td>\n",
       "      <td>...</td>\n",
       "      <td>3</td>\n",
       "      <td>2.763</td>\n",
       "      <td>87.794</td>\n",
       "      <td>954</td>\n",
       "      <td>114</td>\n",
       "      <td>3</td>\n",
       "      <td>0</td>\n",
       "      <td>234.61</td>\n",
       "      <td>300.30</td>\n",
       "      <td>62.19</td>\n",
       "    </tr>\n",
       "    <tr>\n",
       "      <th>DDD02156129</th>\n",
       "      <td>C1CC(CCn2ccnn2)CN(C1)c1snc2ccccc12</td>\n",
       "      <td>active</td>\n",
       "      <td>2.456</td>\n",
       "      <td>1.713</td>\n",
       "      <td>3.441</td>\n",
       "      <td>1.960</td>\n",
       "      <td>4.946</td>\n",
       "      <td>6.167</td>\n",
       "      <td>-0.440</td>\n",
       "      <td>0.75</td>\n",
       "      <td>...</td>\n",
       "      <td>4</td>\n",
       "      <td>3.303</td>\n",
       "      <td>93.089</td>\n",
       "      <td>1130</td>\n",
       "      <td>118</td>\n",
       "      <td>4</td>\n",
       "      <td>0</td>\n",
       "      <td>243.18</td>\n",
       "      <td>311.12</td>\n",
       "      <td>75.08</td>\n",
       "    </tr>\n",
       "    <tr>\n",
       "      <th>DDD02099395</th>\n",
       "      <td>O=C1CCCN1C1CCN(CC1)c1snc2ccccc12</td>\n",
       "      <td>active</td>\n",
       "      <td>2.776</td>\n",
       "      <td>1.335</td>\n",
       "      <td>2.813</td>\n",
       "      <td>1.530</td>\n",
       "      <td>4.997</td>\n",
       "      <td>5.725</td>\n",
       "      <td>-0.643</td>\n",
       "      <td>0.21</td>\n",
       "      <td>...</td>\n",
       "      <td>2</td>\n",
       "      <td>2.091</td>\n",
       "      <td>86.320</td>\n",
       "      <td>963</td>\n",
       "      <td>116</td>\n",
       "      <td>3</td>\n",
       "      <td>0</td>\n",
       "      <td>237.01</td>\n",
       "      <td>295.56</td>\n",
       "      <td>64.68</td>\n",
       "    </tr>\n",
       "    <tr>\n",
       "      <th>DDD02157535</th>\n",
       "      <td>CC(=O)N[C@@H]1CCCN(C1)c1snc2ccc(cc12)F</td>\n",
       "      <td>active</td>\n",
       "      <td>2.633</td>\n",
       "      <td>1.278</td>\n",
       "      <td>2.687</td>\n",
       "      <td>1.564</td>\n",
       "      <td>5.067</td>\n",
       "      <td>5.188</td>\n",
       "      <td>-0.671</td>\n",
       "      <td>0.21</td>\n",
       "      <td>...</td>\n",
       "      <td>2</td>\n",
       "      <td>2.353</td>\n",
       "      <td>78.523</td>\n",
       "      <td>814</td>\n",
       "      <td>106</td>\n",
       "      <td>3</td>\n",
       "      <td>1</td>\n",
       "      <td>230.49</td>\n",
       "      <td>288.83</td>\n",
       "      <td>73.47</td>\n",
       "    </tr>\n",
       "    <tr>\n",
       "      <th>...</th>\n",
       "      <td>...</td>\n",
       "      <td>...</td>\n",
       "      <td>...</td>\n",
       "      <td>...</td>\n",
       "      <td>...</td>\n",
       "      <td>...</td>\n",
       "      <td>...</td>\n",
       "      <td>...</td>\n",
       "      <td>...</td>\n",
       "      <td>...</td>\n",
       "      <td>...</td>\n",
       "      <td>...</td>\n",
       "      <td>...</td>\n",
       "      <td>...</td>\n",
       "      <td>...</td>\n",
       "      <td>...</td>\n",
       "      <td>...</td>\n",
       "      <td>...</td>\n",
       "      <td>...</td>\n",
       "      <td>...</td>\n",
       "      <td>...</td>\n",
       "    </tr>\n",
       "    <tr>\n",
       "      <th>DDD01865292</th>\n",
       "      <td>CN(C)[C@@H]1CCN(C1)c1snc2ccccc12</td>\n",
       "      <td>inactive</td>\n",
       "      <td>3.994</td>\n",
       "      <td>1.394</td>\n",
       "      <td>2.993</td>\n",
       "      <td>1.577</td>\n",
       "      <td>4.769</td>\n",
       "      <td>5.861</td>\n",
       "      <td>-0.316</td>\n",
       "      <td>0.02</td>\n",
       "      <td>...</td>\n",
       "      <td>2</td>\n",
       "      <td>2.514</td>\n",
       "      <td>74.289</td>\n",
       "      <td>510</td>\n",
       "      <td>92</td>\n",
       "      <td>3</td>\n",
       "      <td>0</td>\n",
       "      <td>207.85</td>\n",
       "      <td>263.59</td>\n",
       "      <td>47.61</td>\n",
       "    </tr>\n",
       "    <tr>\n",
       "      <th>DDD01867735</th>\n",
       "      <td>COC[C@H]1CCCN1c1snc2ccccc12</td>\n",
       "      <td>inactive</td>\n",
       "      <td>3.522</td>\n",
       "      <td>1.085</td>\n",
       "      <td>3.389</td>\n",
       "      <td>2.151</td>\n",
       "      <td>4.881</td>\n",
       "      <td>5.581</td>\n",
       "      <td>-0.271</td>\n",
       "      <td>0.12</td>\n",
       "      <td>...</td>\n",
       "      <td>3</td>\n",
       "      <td>2.824</td>\n",
       "      <td>71.957</td>\n",
       "      <td>497</td>\n",
       "      <td>90</td>\n",
       "      <td>3</td>\n",
       "      <td>0</td>\n",
       "      <td>200.31</td>\n",
       "      <td>253.32</td>\n",
       "      <td>53.60</td>\n",
       "    </tr>\n",
       "    <tr>\n",
       "      <th>DDD01865422</th>\n",
       "      <td>C1CC2(CN(C2)c2snc3ccccc23)O1</td>\n",
       "      <td>inactive</td>\n",
       "      <td>3.919</td>\n",
       "      <td>0.789</td>\n",
       "      <td>2.527</td>\n",
       "      <td>2.137</td>\n",
       "      <td>4.462</td>\n",
       "      <td>5.494</td>\n",
       "      <td>-0.184</td>\n",
       "      <td>0.14</td>\n",
       "      <td>...</td>\n",
       "      <td>1</td>\n",
       "      <td>1.919</td>\n",
       "      <td>65.234</td>\n",
       "      <td>434</td>\n",
       "      <td>96</td>\n",
       "      <td>3</td>\n",
       "      <td>0</td>\n",
       "      <td>176.64</td>\n",
       "      <td>217.18</td>\n",
       "      <td>53.59</td>\n",
       "    </tr>\n",
       "    <tr>\n",
       "      <th>DDD01865392</th>\n",
       "      <td>CO[C@@H]1CCN(C1)c1snc2ccccc12</td>\n",
       "      <td>inactive</td>\n",
       "      <td>3.836</td>\n",
       "      <td>1.153</td>\n",
       "      <td>2.918</td>\n",
       "      <td>2.015</td>\n",
       "      <td>4.471</td>\n",
       "      <td>5.401</td>\n",
       "      <td>-0.313</td>\n",
       "      <td>0.11</td>\n",
       "      <td>...</td>\n",
       "      <td>2</td>\n",
       "      <td>2.244</td>\n",
       "      <td>67.313</td>\n",
       "      <td>428</td>\n",
       "      <td>86</td>\n",
       "      <td>3</td>\n",
       "      <td>0</td>\n",
       "      <td>187.96</td>\n",
       "      <td>235.89</td>\n",
       "      <td>53.60</td>\n",
       "    </tr>\n",
       "    <tr>\n",
       "      <th>DDD01866579</th>\n",
       "      <td>COC1CN(C1)c1snc2ccccc12</td>\n",
       "      <td>inactive</td>\n",
       "      <td>4.131</td>\n",
       "      <td>1.257</td>\n",
       "      <td>2.494</td>\n",
       "      <td>1.923</td>\n",
       "      <td>4.435</td>\n",
       "      <td>5.238</td>\n",
       "      <td>-0.365</td>\n",
       "      <td>0.13</td>\n",
       "      <td>...</td>\n",
       "      <td>2</td>\n",
       "      <td>2.182</td>\n",
       "      <td>62.448</td>\n",
       "      <td>369</td>\n",
       "      <td>82</td>\n",
       "      <td>3</td>\n",
       "      <td>0</td>\n",
       "      <td>167.38</td>\n",
       "      <td>218.47</td>\n",
       "      <td>53.60</td>\n",
       "    </tr>\n",
       "  </tbody>\n",
       "</table>\n",
       "<p>329 rows × 165 columns</p>\n",
       "</div>"
      ],
      "text/plain": [
       "                                             SMILES     class  logS_SD  \\\n",
       "ID                                                                       \n",
       "DDD02153544      C1CC(CCn2cncn2)CN(C1)c1snc2ccccc12    active    2.456   \n",
       "DDD01868260   C1C[C@H](CN(C1)c1snc2ccccc12)Cn1ccnc1    active    2.169   \n",
       "DDD02156129      C1CC(CCn2ccnn2)CN(C1)c1snc2ccccc12    active    2.456   \n",
       "DDD02099395        O=C1CCCN1C1CCN(CC1)c1snc2ccccc12    active    2.776   \n",
       "DDD02157535  CC(=O)N[C@@H]1CCCN(C1)c1snc2ccc(cc12)F    active    2.633   \n",
       "...                                             ...       ...      ...   \n",
       "DDD01865292        CN(C)[C@@H]1CCN(C1)c1snc2ccccc12  inactive    3.994   \n",
       "DDD01867735             COC[C@H]1CCCN1c1snc2ccccc12  inactive    3.522   \n",
       "DDD01865422            C1CC2(CN(C2)c2snc3ccccc23)O1  inactive    3.919   \n",
       "DDD01865392           CO[C@@H]1CCN(C1)c1snc2ccccc12  inactive    3.836   \n",
       "DDD01866579                 COC1CN(C1)c1snc2ccccc12  inactive    4.131   \n",
       "\n",
       "             logS_7_4  logP_SD  logD_SD  2C9_pKi   hERG  BBB_log_SD   BBB  \\\n",
       "ID                                                                          \n",
       "DDD02153544     1.713    3.441    1.954    4.946  6.168      -0.440  0.75   \n",
       "DDD01868260     1.324    3.645    2.041    5.047  6.095      -0.307  0.17   \n",
       "DDD02156129     1.713    3.441    1.960    4.946  6.167      -0.440  0.75   \n",
       "DDD02099395     1.335    2.813    1.530    4.997  5.725      -0.643  0.21   \n",
       "DDD02157535     1.278    2.687    1.564    5.067  5.188      -0.671  0.21   \n",
       "...               ...      ...      ...      ...    ...         ...   ...   \n",
       "DDD01865292     1.394    2.993    1.577    4.769  5.861      -0.316  0.02   \n",
       "DDD01867735     1.085    3.389    2.151    4.881  5.581      -0.271  0.12   \n",
       "DDD01865422     0.789    2.527    2.137    4.462  5.494      -0.184  0.14   \n",
       "DDD01865392     1.153    2.918    2.015    4.471  5.401      -0.313  0.11   \n",
       "DDD01866579     1.257    2.494    1.923    4.435  5.238      -0.365  0.13   \n",
       "\n",
       "             ...  RotBonds  ALogP  ALogP_MR  Wiener  Zagreb  Num_H_Acceptors  \\\n",
       "ID           ...                                                               \n",
       "DDD02153544  ...         4  3.086    92.432    1130     118                4   \n",
       "DDD01868260  ...         3  2.763    87.794     954     114                3   \n",
       "DDD02156129  ...         4  3.303    93.089    1130     118                4   \n",
       "DDD02099395  ...         2  2.091    86.320     963     116                3   \n",
       "DDD02157535  ...         2  2.353    78.523     814     106                3   \n",
       "...          ...       ...    ...       ...     ...     ...              ...   \n",
       "DDD01865292  ...         2  2.514    74.289     510      92                3   \n",
       "DDD01867735  ...         3  2.824    71.957     497      90                3   \n",
       "DDD01865422  ...         1  1.919    65.234     434      96                3   \n",
       "DDD01865392  ...         2  2.244    67.313     428      86                3   \n",
       "DDD01866579  ...         2  2.182    62.448     369      82                3   \n",
       "\n",
       "             Num_H_Donors  Molecular_Volume  Molecular_SurfaceArea  \\\n",
       "ID                                                                   \n",
       "DDD02153544             0            244.21                 315.30   \n",
       "DDD01868260             0            234.61                 300.30   \n",
       "DDD02156129             0            243.18                 311.12   \n",
       "DDD02099395             0            237.01                 295.56   \n",
       "DDD02157535             1            230.49                 288.83   \n",
       "...                   ...               ...                    ...   \n",
       "DDD01865292             0            207.85                 263.59   \n",
       "DDD01867735             0            200.31                 253.32   \n",
       "DDD01865422             0            176.64                 217.18   \n",
       "DDD01865392             0            187.96                 235.89   \n",
       "DDD01866579             0            167.38                 218.47   \n",
       "\n",
       "             Molecular_PolarSurfaceArea  \n",
       "ID                                       \n",
       "DDD02153544                       75.08  \n",
       "DDD01868260                       62.19  \n",
       "DDD02156129                       75.08  \n",
       "DDD02099395                       64.68  \n",
       "DDD02157535                       73.47  \n",
       "...                                 ...  \n",
       "DDD01865292                       47.61  \n",
       "DDD01867735                       53.60  \n",
       "DDD01865422                       53.59  \n",
       "DDD01865392                       53.60  \n",
       "DDD01866579                       53.60  \n",
       "\n",
       "[329 rows x 165 columns]"
      ]
     },
     "execution_count": 189,
     "metadata": {},
     "output_type": "execute_result"
    }
   ],
   "source": [
    "allMerged"
   ]
  },
  {
   "cell_type": "markdown",
   "metadata": {},
   "source": [
    "# Random forest "
   ]
  },
  {
   "cell_type": "code",
   "execution_count": 190,
   "metadata": {},
   "outputs": [],
   "source": [
    "X = allMerged.iloc[:, 2:,].values #descreptors\n",
    "# y = allMerged.iloc[:, 1].values #desired property\n",
    "\n",
    "y = allMerged['class'].to_numpy()\n",
    "# y"
   ]
  },
  {
   "cell_type": "code",
   "execution_count": 191,
   "metadata": {},
   "outputs": [
    {
     "name": "stdout",
     "output_type": "stream",
     "text": [
      "(263, 163)\n",
      "[1]\n",
      "[0.6515151515151515]\n"
     ]
    }
   ],
   "source": [
    "# print(X.shape)\n",
    "# print(y)\n",
    "\n",
    "r2_list = []\n",
    "random_state_variable_list = []\n",
    "\n",
    "for f in range(1,2,1):\n",
    "\n",
    "    random_state_variable=f\n",
    "    random_state_variable_list.append(f)\n",
    "\n",
    "    from sklearn.model_selection import train_test_split\n",
    "    X_train, X_test, y_train, y_test = train_test_split(X, y, test_size=0.2, random_state=random_state_variable)\n",
    "    print(X_train.shape)\n",
    "    # print(X_test.shape)\n",
    "    # print(y_train.shape)\n",
    "    # print(y_test.shape)\n",
    "\n",
    "    from sklearn.preprocessing import StandardScaler\n",
    "\n",
    "    sc = StandardScaler()\n",
    "    X_train = sc.fit_transform(X_train)\n",
    "    X_test = sc.transform(X_test)\n",
    "    X_train.shape\n",
    "\n",
    "\n",
    "    ### Starting Random Forest fitting\n",
    "\n",
    "    from sklearn.ensemble import RandomForestRegressor, RandomForestClassifier\n",
    "\n",
    "    regressor = RandomForestClassifier(n_estimators=500, random_state=random_state_variable)\n",
    "    regressor.fit(X_train, y_train)\n",
    "    y_pred = regressor.predict(X_test)\n",
    "\n",
    "    from sklearn import metrics\n",
    "\n",
    "#     print('Mean Absolute Error:', metrics.mean_absolute_error(y_test, y_pred))\n",
    "#     print('Mean Squared Error:', metrics.mean_squared_error(y_test, y_pred))\n",
    "#     print('Root Mean Squared Error:', np.sqrt(metrics.mean_squared_error(y_test, y_pred)))\n",
    "    r2_list.append(metrics.accuracy_score(y_test, y_pred))\n",
    "#     print(\"Accuracy:\",metrics.accuracy_score(y_test, y_pred))\n",
    "#     from sklearn.metrics import r2_score\n",
    "#     plt.scatter(y_test, y_pred)\n",
    "#     m, b = np.polyfit(y_test, y_pred, 1)\n",
    "#     plt.plot(y_test, m*y_test + b)\n",
    "#     # plt.axes.set_title()\n",
    "#     plt.title('R2: ' + str(r2_score(y_test, y_pred)))\n",
    "\n",
    "print (random_state_variable_list)\n",
    "print (r2_list)\n"
   ]
  },
  {
   "cell_type": "code",
   "execution_count": 192,
   "metadata": {},
   "outputs": [
    {
     "data": {
      "image/png": "[encoded data removed]",
      "text/plain": [
       "<Figure size 432x288 with 2 Axes>"
      ]
     },
     "metadata": {
      "needs_background": "light"
     },
     "output_type": "display_data"
    }
   ],
   "source": [
    "# from sklearn import metrics\n",
    "# # metrics.plot_roc_curve(regressor, y_test, y_pred)\n",
    "# metrics.plot_roc_curve(regressor, y_test, y_pred)\n",
    "# plt.show()\n",
    "# regressor.predict(X_valid_norm)\n",
    "import scikitplot as skplt\n",
    "skplt.metrics.plot_confusion_matrix(y_test, y_pred)\n",
    "plt.show()"
   ]
  },
  {
   "cell_type": "markdown",
   "metadata": {},
   "source": [
    "# Validation datasets"
   ]
  },
  {
   "cell_type": "code",
   "execution_count": 193,
   "metadata": {},
   "outputs": [],
   "source": [
    "# X_valid = allMerged_validation.iloc[:, 2:,].values #descreptors\n",
    "# y_valid = allMerged_validation['class'].to_numpy()  #desirable data\n",
    "\n",
    "# allMerged_excluded.dropna(inplace=True)\n",
    "# X_valid = allMerged_excluded.iloc[:, 2:,].values #descreptors\n",
    "# y_valid = allMerged_excluded['class'].to_numpy() #desirable data\n",
    "\n",
    "# All data merged\n",
    "totalValidation = pd.concat([allMerged, allMerged_excluded, allMerged_validation])\n",
    "X_valid = totalValidation.iloc[:, 2:,].values #descreptors\n",
    "y_valid = totalValidation['class'].to_numpy()  #desirable data\n",
    "\n",
    "\n",
    "from sklearn.preprocessing import StandardScaler\n",
    "sc = StandardScaler()\n",
    "X_valid_norm = sc.fit_transform(X_valid)\n",
    "# X_valid_norm.shape\n",
    "# allMerged_excluded.dropna(inplace=True)\n",
    "# allMerged_excluded\n",
    "# allMerged_excluded"
   ]
  },
  {
   "cell_type": "code",
   "execution_count": 194,
   "metadata": {},
   "outputs": [
    {
     "data": {
      "image/png": "[encoded data removed]",
      "text/plain": [
       "<Figure size 432x288 with 2 Axes>"
      ]
     },
     "metadata": {
      "needs_background": "light"
     },
     "output_type": "display_data"
    }
   ],
   "source": [
    "Y_valid_pred = regressor.predict(X_valid_norm)\n",
    "# print(Y_valid_pred)\n",
    "\n",
    "skplt.metrics.plot_confusion_matrix(y_valid, Y_valid_pred)\n",
    "# skplt.metrics.plot_roc(y_valid, Y_valid_pred)\n",
    "plt.show()"
   ]
  },
  {
   "cell_type": "code",
   "execution_count": null,
   "metadata": {},
   "outputs": [],
   "source": []
  },
  {
   "cell_type": "markdown",
   "metadata": {},
   "source": [
    "# Visualising leaves"
   ]
  },
  {
   "cell_type": "code",
   "execution_count": null,
   "metadata": {},
   "outputs": [],
   "source": [
    "from sklearn.tree import export_graphviz\n",
    "export_graphviz(estimator_limited, out_file='tree_limited.dot', feature_names = iris.feature_names,\n",
    "                class_names = iris.target_names,\n",
    "                rounded = True, proportion = False, precision = 2, filled = True)\n"
   ]
  },
  {
   "cell_type": "code",
   "execution_count": 79,
   "metadata": {},
   "outputs": [],
   "source": [
    "estimator_limited = regressor.estimators_[5]"
   ]
  },
  {
   "cell_type": "code",
   "execution_count": null,
   "metadata": {},
   "outputs": [],
   "source": []
  }
 ],
 "metadata": {
  "kernelspec": {
   "display_name": "Python 3",
   "language": "python",
   "name": "python3"
  },
  "language_info": {
   "codemirror_mode": {
    "name": "ipython",
    "version": 3
   },
   "file_extension": ".py",
   "mimetype": "text/x-python",
   "name": "python",
   "nbconvert_exporter": "python",
   "pygments_lexer": "ipython3",
   "version": "3.6.12"
  }
 },
 "nbformat": 4,
 "nbformat_minor": 4
}
