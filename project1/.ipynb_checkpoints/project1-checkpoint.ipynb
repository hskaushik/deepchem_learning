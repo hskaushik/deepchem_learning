{
 "cells": [
  {
   "cell_type": "code",
   "execution_count": 3,
   "metadata": {
    "scrolled": true
   },
   "outputs": [],
   "source": [
    "from __future__ import print_function\n",
    "from __future__ import division\n",
    "from __future__ import unicode_literals\n",
    "\n",
    "import numpy as np\n",
    "import deepchem as dc\n",
    "from deepchem.molnet import load_delaney\n",
    "from deepchem.models import GraphConvModel\n",
    "import tensorflow as tf\n",
    "import numpy as np\n",
    "import matplotlib.pyplot as plt\n"
   ]
  },
  {
   "cell_type": "markdown",
   "metadata": {},
   "source": [
    "#Setting up model"
   ]
  },
  {
   "cell_type": "code",
   "execution_count": 297,
   "metadata": {},
   "outputs": [
    {
     "name": "stdout",
     "output_type": "stream",
     "text": [
      "Loading raw samples now.\n",
      "shard_size: 8192\n",
      "About to start loading CSV from /Users/KHatti001/OneDrive - University of Dundee/project1_data/Series4_firstSet_trimmed_subset.csv\n",
      "Loading shard 1 of size 8192.\n",
      "Featurizing sample 0\n",
      "TIMING: featurizing shard 0 took 0.505 s\n",
      "TIMING: dataset construction took 0.584 s\n",
      "Loading dataset from disk.\n",
      "About to transform data\n",
      "TIMING: dataset construction took 0.125 s\n",
      "Loading dataset from disk.\n",
      "TIMING: dataset construction took 0.095 s\n",
      "Loading dataset from disk.\n",
      "TIMING: dataset construction took 0.051 s\n",
      "Loading dataset from disk.\n",
      "TIMING: dataset construction took 0.056 s\n",
      "Loading dataset from disk.\n"
     ]
    }
   ],
   "source": [
    "##input malaria file\n",
    "# delaney_tasks = ['Desired_property']\n",
    "delaney_tasks = ['CL mouse GEOM_MEAN']\n",
    "\n",
    "featurizer = dc.feat.ConvMolFeaturizer()\n",
    "\n",
    "input_dataset = \"/Users/KHatti001/OneDrive - University of Dundee/project1_data/Series4_firstSet_trimmed_subset.csv\"\n",
    "\n",
    "loader = dc.data.CSVLoader(tasks=delaney_tasks, smiles_field=\"SMILES\", featurizer=featurizer)\n",
    "dataset = loader.featurize(input_dataset, shard_size=8192)\n",
    "\n",
    "# Initialize transformers\n",
    "transformers = [\n",
    "  dc.trans.NormalizationTransformer(\n",
    "      transform_y=True, dataset=dataset)\n",
    "]\n",
    "\n",
    "print(\"About to transform data\")\n",
    "for transformer in transformers:\n",
    "    dataset = transformer.transform(dataset)\n",
    "\n",
    "# splitters = {\n",
    "#   'index': dc.splits.IndexSplitter(),\n",
    "#   'random': dc.splits.RandomSplitter(),\n",
    "#   'scaffold': dc.splits.ScaffoldSplitter()\n",
    "# }\n",
    "splitter = dc.splits.IndexSplitter()\n",
    "train_dataset, valid_dataset, test_dataset = splitter.train_valid_test_split(dataset, \n",
    "                                                                            frac_train = 0.7, \n",
    "                                                                             frac_valid  = 0.15, \n",
    "                                                                             frac_test  = 0.15\n",
    "                                                                            )\n"
   ]
  },
  {
   "cell_type": "code",
   "execution_count": null,
   "metadata": {},
   "outputs": [],
   "source": []
  },
  {
   "cell_type": "code",
   "execution_count": null,
   "metadata": {},
   "outputs": [
    {
     "name": "stdout",
     "output_type": "stream",
     "text": [
      "WARNING:tensorflow:Entity <bound method GraphConv.call of <deepchem.models.layers.GraphConv object at 0x7f8d5105a2e8>> could not be transformed and will be executed as-is. Please report this to the AutgoGraph team. When filing the bug, set the verbosity to 10 (on Linux, `export AUTOGRAPH_VERBOSITY=10`) and attach the full output. Cause: converting <bound method GraphConv.call of <deepchem.models.layers.GraphConv object at 0x7f8d5105a2e8>>: AttributeError: module 'gast' has no attribute 'Index'\n",
      "WARNING: Entity <bound method GraphConv.call of <deepchem.models.layers.GraphConv object at 0x7f8d5105a2e8>> could not be transformed and will be executed as-is. Please report this to the AutgoGraph team. When filing the bug, set the verbosity to 10 (on Linux, `export AUTOGRAPH_VERBOSITY=10`) and attach the full output. Cause: converting <bound method GraphConv.call of <deepchem.models.layers.GraphConv object at 0x7f8d5105a2e8>>: AttributeError: module 'gast' has no attribute 'Index'\n",
      "WARNING:tensorflow:Entity <bound method GraphPool.call of <deepchem.models.layers.GraphPool object at 0x7f8d87fede10>> could not be transformed and will be executed as-is. Please report this to the AutgoGraph team. When filing the bug, set the verbosity to 10 (on Linux, `export AUTOGRAPH_VERBOSITY=10`) and attach the full output. Cause: converting <bound method GraphPool.call of <deepchem.models.layers.GraphPool object at 0x7f8d87fede10>>: AttributeError: module 'gast' has no attribute 'Index'\n",
      "WARNING: Entity <bound method GraphPool.call of <deepchem.models.layers.GraphPool object at 0x7f8d87fede10>> could not be transformed and will be executed as-is. Please report this to the AutgoGraph team. When filing the bug, set the verbosity to 10 (on Linux, `export AUTOGRAPH_VERBOSITY=10`) and attach the full output. Cause: converting <bound method GraphPool.call of <deepchem.models.layers.GraphPool object at 0x7f8d87fede10>>: AttributeError: module 'gast' has no attribute 'Index'\n",
      "WARNING:tensorflow:Entity <bound method GraphConv.call of <deepchem.models.layers.GraphConv object at 0x7f8d87fedb38>> could not be transformed and will be executed as-is. Please report this to the AutgoGraph team. When filing the bug, set the verbosity to 10 (on Linux, `export AUTOGRAPH_VERBOSITY=10`) and attach the full output. Cause: converting <bound method GraphConv.call of <deepchem.models.layers.GraphConv object at 0x7f8d87fedb38>>: AttributeError: module 'gast' has no attribute 'Index'\n",
      "WARNING: Entity <bound method GraphConv.call of <deepchem.models.layers.GraphConv object at 0x7f8d87fedb38>> could not be transformed and will be executed as-is. Please report this to the AutgoGraph team. When filing the bug, set the verbosity to 10 (on Linux, `export AUTOGRAPH_VERBOSITY=10`) and attach the full output. Cause: converting <bound method GraphConv.call of <deepchem.models.layers.GraphConv object at 0x7f8d87fedb38>>: AttributeError: module 'gast' has no attribute 'Index'\n",
      "WARNING:tensorflow:Entity <bound method GraphPool.call of <deepchem.models.layers.GraphPool object at 0x7f8d5d5bd5c0>> could not be transformed and will be executed as-is. Please report this to the AutgoGraph team. When filing the bug, set the verbosity to 10 (on Linux, `export AUTOGRAPH_VERBOSITY=10`) and attach the full output. Cause: converting <bound method GraphPool.call of <deepchem.models.layers.GraphPool object at 0x7f8d5d5bd5c0>>: AttributeError: module 'gast' has no attribute 'Index'\n",
      "WARNING: Entity <bound method GraphPool.call of <deepchem.models.layers.GraphPool object at 0x7f8d5d5bd5c0>> could not be transformed and will be executed as-is. Please report this to the AutgoGraph team. When filing the bug, set the verbosity to 10 (on Linux, `export AUTOGRAPH_VERBOSITY=10`) and attach the full output. Cause: converting <bound method GraphPool.call of <deepchem.models.layers.GraphPool object at 0x7f8d5d5bd5c0>>: AttributeError: module 'gast' has no attribute 'Index'\n",
      "WARNING:tensorflow:Entity <bound method GraphGather.call of <deepchem.models.layers.GraphGather object at 0x7f8d5dce6b00>> could not be transformed and will be executed as-is. Please report this to the AutgoGraph team. When filing the bug, set the verbosity to 10 (on Linux, `export AUTOGRAPH_VERBOSITY=10`) and attach the full output. Cause: converting <bound method GraphGather.call of <deepchem.models.layers.GraphGather object at 0x7f8d5dce6b00>>: AttributeError: module 'gast' has no attribute 'Index'\n",
      "WARNING: Entity <bound method GraphGather.call of <deepchem.models.layers.GraphGather object at 0x7f8d5dce6b00>> could not be transformed and will be executed as-is. Please report this to the AutgoGraph team. When filing the bug, set the verbosity to 10 (on Linux, `export AUTOGRAPH_VERBOSITY=10`) and attach the full output. Cause: converting <bound method GraphGather.call of <deepchem.models.layers.GraphGather object at 0x7f8d5dce6b00>>: AttributeError: module 'gast' has no attribute 'Index'\n",
      "WARNING:tensorflow:Entity <bound method TrimGraphOutput.call of <deepchem.models.graph_models.TrimGraphOutput object at 0x7f8d506ae470>> could not be transformed and will be executed as-is. Please report this to the AutgoGraph team. When filing the bug, set the verbosity to 10 (on Linux, `export AUTOGRAPH_VERBOSITY=10`) and attach the full output. Cause: converting <bound method TrimGraphOutput.call of <deepchem.models.graph_models.TrimGraphOutput object at 0x7f8d506ae470>>: AttributeError: module 'gast' has no attribute 'Index'\n",
      "WARNING: Entity <bound method TrimGraphOutput.call of <deepchem.models.graph_models.TrimGraphOutput object at 0x7f8d506ae470>> could not be transformed and will be executed as-is. Please report this to the AutgoGraph team. When filing the bug, set the verbosity to 10 (on Linux, `export AUTOGRAPH_VERBOSITY=10`) and attach the full output. Cause: converting <bound method TrimGraphOutput.call of <deepchem.models.graph_models.TrimGraphOutput object at 0x7f8d506ae470>>: AttributeError: module 'gast' has no attribute 'Index'\n"
     ]
    }
   ],
   "source": [
    "# Load Delaney dataset\n",
    "# delaney_tasks, delaney_datasets, transformers = load_delaney(\n",
    "#     featurizer='GraphConv', split='index')\n",
    "# train_dataset, valid_dataset, test_dataset = dataset\n",
    "\n",
    "# Fit models\n",
    "metric = dc.metrics.Metric(dc.metrics.pearson_r2_score, np.mean)\n",
    "\n",
    "# Do setup required for tf/keras models\n",
    "# Number of features on conv-mols\n",
    "n_feat = 75\n",
    "# Batch size of models\n",
    "batch_size = 128\n",
    "model = GraphConvModel(\n",
    "    len(delaney_tasks), \n",
    "#     graph_conv_layers=[128,128],\n",
    "#     dense_layer_size=256,\n",
    "    batch_size=batch_size, mode='regression')\n"
   ]
  },
  {
   "cell_type": "code",
   "execution_count": 274,
   "metadata": {},
   "outputs": [
    {
     "name": "stdout",
     "output_type": "stream",
     "text": [
      "training data length 150\n",
      "validation data length 32\n"
     ]
    }
   ],
   "source": [
    "print(\"training data length\", len(train_dataset))\n",
    "print(\"validation data length\", len(valid_dataset))"
   ]
  },
  {
   "cell_type": "markdown",
   "metadata": {},
   "source": [
    "##Train model"
   ]
  },
  {
   "cell_type": "code",
   "execution_count": 265,
   "metadata": {},
   "outputs": [],
   "source": [
    "# Fit trained model\n",
    "def run_and_store_results(nb_epoch_value):\n",
    "    scoring_function_used = \"mean-pearson_r2_score\"\n",
    "#     scoring_function_used = \"r2_score\"\n",
    "    model.fit(train_dataset, nb_epoch=nb_epoch_value)\n",
    "\n",
    "#     print(\"Evaluating model\")\n",
    "    train_scores =  model.evaluate(train_dataset, [metric], transformers)\n",
    "    valid_scores = model.evaluate(valid_dataset, [metric], transformers)\n",
    "    print(\"printing some value\", train_scores[scoring_function_used])\n",
    "    return train_scores[scoring_function_used],valid_scores[scoring_function_used]\n",
    "\n",
    "#     print(\"Train scores\")\n",
    "#     print(train_scores)\n",
    "\n",
    "#     print(\"Validation scores\")\n",
    "#     print(valid_scores)\n",
    "\n",
    "# model.restore()"
   ]
  },
  {
   "cell_type": "code",
   "execution_count": 275,
   "metadata": {},
   "outputs": [
    {
     "name": "stdout",
     "output_type": "stream",
     "text": [
      "0\n",
      "WARNING:tensorflow:Entity <bound method GraphConv.call of <deepchem.models.layers.GraphConv object at 0x7f8d660c3be0>> could not be transformed and will be executed as-is. Please report this to the AutgoGraph team. When filing the bug, set the verbosity to 10 (on Linux, `export AUTOGRAPH_VERBOSITY=10`) and attach the full output. Cause: converting <bound method GraphConv.call of <deepchem.models.layers.GraphConv object at 0x7f8d660c3be0>>: AttributeError: module 'gast' has no attribute 'Index'\n",
      "WARNING: Entity <bound method GraphConv.call of <deepchem.models.layers.GraphConv object at 0x7f8d660c3be0>> could not be transformed and will be executed as-is. Please report this to the AutgoGraph team. When filing the bug, set the verbosity to 10 (on Linux, `export AUTOGRAPH_VERBOSITY=10`) and attach the full output. Cause: converting <bound method GraphConv.call of <deepchem.models.layers.GraphConv object at 0x7f8d660c3be0>>: AttributeError: module 'gast' has no attribute 'Index'\n",
      "WARNING:tensorflow:Entity <bound method GraphPool.call of <deepchem.models.layers.GraphPool object at 0x7f8d69aa8550>> could not be transformed and will be executed as-is. Please report this to the AutgoGraph team. When filing the bug, set the verbosity to 10 (on Linux, `export AUTOGRAPH_VERBOSITY=10`) and attach the full output. Cause: converting <bound method GraphPool.call of <deepchem.models.layers.GraphPool object at 0x7f8d69aa8550>>: AttributeError: module 'gast' has no attribute 'Index'\n",
      "WARNING: Entity <bound method GraphPool.call of <deepchem.models.layers.GraphPool object at 0x7f8d69aa8550>> could not be transformed and will be executed as-is. Please report this to the AutgoGraph team. When filing the bug, set the verbosity to 10 (on Linux, `export AUTOGRAPH_VERBOSITY=10`) and attach the full output. Cause: converting <bound method GraphPool.call of <deepchem.models.layers.GraphPool object at 0x7f8d69aa8550>>: AttributeError: module 'gast' has no attribute 'Index'\n",
      "WARNING:tensorflow:Entity <bound method GraphConv.call of <deepchem.models.layers.GraphConv object at 0x7f8d50edb908>> could not be transformed and will be executed as-is. Please report this to the AutgoGraph team. When filing the bug, set the verbosity to 10 (on Linux, `export AUTOGRAPH_VERBOSITY=10`) and attach the full output. Cause: converting <bound method GraphConv.call of <deepchem.models.layers.GraphConv object at 0x7f8d50edb908>>: AttributeError: module 'gast' has no attribute 'Index'\n",
      "WARNING: Entity <bound method GraphConv.call of <deepchem.models.layers.GraphConv object at 0x7f8d50edb908>> could not be transformed and will be executed as-is. Please report this to the AutgoGraph team. When filing the bug, set the verbosity to 10 (on Linux, `export AUTOGRAPH_VERBOSITY=10`) and attach the full output. Cause: converting <bound method GraphConv.call of <deepchem.models.layers.GraphConv object at 0x7f8d50edb908>>: AttributeError: module 'gast' has no attribute 'Index'\n",
      "WARNING:tensorflow:Entity <bound method GraphPool.call of <deepchem.models.layers.GraphPool object at 0x7f8d53bb4080>> could not be transformed and will be executed as-is. Please report this to the AutgoGraph team. When filing the bug, set the verbosity to 10 (on Linux, `export AUTOGRAPH_VERBOSITY=10`) and attach the full output. Cause: converting <bound method GraphPool.call of <deepchem.models.layers.GraphPool object at 0x7f8d53bb4080>>: AttributeError: module 'gast' has no attribute 'Index'\n",
      "WARNING: Entity <bound method GraphPool.call of <deepchem.models.layers.GraphPool object at 0x7f8d53bb4080>> could not be transformed and will be executed as-is. Please report this to the AutgoGraph team. When filing the bug, set the verbosity to 10 (on Linux, `export AUTOGRAPH_VERBOSITY=10`) and attach the full output. Cause: converting <bound method GraphPool.call of <deepchem.models.layers.GraphPool object at 0x7f8d53bb4080>>: AttributeError: module 'gast' has no attribute 'Index'\n",
      "WARNING:tensorflow:Entity <bound method GraphGather.call of <deepchem.models.layers.GraphGather object at 0x7f8d53ea0ac8>> could not be transformed and will be executed as-is. Please report this to the AutgoGraph team. When filing the bug, set the verbosity to 10 (on Linux, `export AUTOGRAPH_VERBOSITY=10`) and attach the full output. Cause: converting <bound method GraphGather.call of <deepchem.models.layers.GraphGather object at 0x7f8d53ea0ac8>>: AttributeError: module 'gast' has no attribute 'Index'\n",
      "WARNING: Entity <bound method GraphGather.call of <deepchem.models.layers.GraphGather object at 0x7f8d53ea0ac8>> could not be transformed and will be executed as-is. Please report this to the AutgoGraph team. When filing the bug, set the verbosity to 10 (on Linux, `export AUTOGRAPH_VERBOSITY=10`) and attach the full output. Cause: converting <bound method GraphGather.call of <deepchem.models.layers.GraphGather object at 0x7f8d53ea0ac8>>: AttributeError: module 'gast' has no attribute 'Index'\n",
      "WARNING:tensorflow:Entity <bound method TrimGraphOutput.call of <deepchem.models.graph_models.TrimGraphOutput object at 0x7f8d4f7f2cc0>> could not be transformed and will be executed as-is. Please report this to the AutgoGraph team. When filing the bug, set the verbosity to 10 (on Linux, `export AUTOGRAPH_VERBOSITY=10`) and attach the full output. Cause: converting <bound method TrimGraphOutput.call of <deepchem.models.graph_models.TrimGraphOutput object at 0x7f8d4f7f2cc0>>: AttributeError: module 'gast' has no attribute 'Index'\n",
      "WARNING: Entity <bound method TrimGraphOutput.call of <deepchem.models.graph_models.TrimGraphOutput object at 0x7f8d4f7f2cc0>> could not be transformed and will be executed as-is. Please report this to the AutgoGraph team. When filing the bug, set the verbosity to 10 (on Linux, `export AUTOGRAPH_VERBOSITY=10`) and attach the full output. Cause: converting <bound method TrimGraphOutput.call of <deepchem.models.graph_models.TrimGraphOutput object at 0x7f8d4f7f2cc0>>: AttributeError: module 'gast' has no attribute 'Index'\n",
      "computed_metrics: [0.0033707965836907174]\n",
      "computed_metrics: [0.017068010035460074]\n",
      "printing some value 0.0033707965836907174\n",
      "100\n"
     ]
    },
    {
     "name": "stderr",
     "output_type": "stream",
     "text": [
      "/Users/KHatti001/opt/anaconda3/envs/chem_ml/lib/python3.6/site-packages/tensorflow/python/ops/gradients_util.py:93: UserWarning: Converting sparse IndexedSlices to a dense Tensor of unknown shape. This may consume a large amount of memory.\n",
      "  \"Converting sparse IndexedSlices to a dense Tensor of unknown shape. \"\n",
      "/Users/KHatti001/opt/anaconda3/envs/chem_ml/lib/python3.6/site-packages/tensorflow/python/ops/gradients_util.py:93: UserWarning: Converting sparse IndexedSlices to a dense Tensor of unknown shape. This may consume a large amount of memory.\n",
      "  \"Converting sparse IndexedSlices to a dense Tensor of unknown shape. \"\n",
      "/Users/KHatti001/opt/anaconda3/envs/chem_ml/lib/python3.6/site-packages/tensorflow/python/ops/gradients_util.py:93: UserWarning: Converting sparse IndexedSlices to a dense Tensor of unknown shape. This may consume a large amount of memory.\n",
      "  \"Converting sparse IndexedSlices to a dense Tensor of unknown shape. \"\n"
     ]
    },
    {
     "name": "stdout",
     "output_type": "stream",
     "text": [
      "computed_metrics: [0.959725839257749]\n",
      "computed_metrics: [0.5128680060140669]\n",
      "printing some value 0.959725839257749\n",
      "200\n",
      "computed_metrics: [0.9977598533525655]\n",
      "computed_metrics: [0.5616061499414241]\n",
      "printing some value 0.9977598533525655\n",
      "300\n",
      "computed_metrics: [0.9987715985434416]\n",
      "computed_metrics: [0.555751002580297]\n",
      "printing some value 0.9987715985434416\n",
      "[0, 100, 200, 300]\n",
      "[0.017068010035460074, 0.5128680060140669, 0.5616061499414241, 0.555751002580297]\n",
      "[0.0033707965836907174, 0.959725839257749, 0.9977598533525655, 0.9987715985434416]\n"
     ]
    }
   ],
   "source": [
    "valid_scores_list=[]\n",
    "train_scores_list=[]\n",
    "epoch_inputs_list=[]\n",
    "for nb_epoch_value in range(0,400,100):\n",
    "# for nb_epoch_value in [10,300]:\n",
    "    print (nb_epoch_value)\n",
    "    train_scores,valid_scores = run_and_store_results(nb_epoch_value)\n",
    "    epoch_inputs_list.append(nb_epoch_value)\n",
    "    valid_scores_list.append(valid_scores)\n",
    "    train_scores_list.append(train_scores)\n",
    "    \n",
    "print(epoch_inputs_list)\n",
    "print(valid_scores_list)\n",
    "print(train_scores_list)\n",
    "\n",
    "    \n",
    "# dir(train_scores)\n",
    "# print(dic[\"C\"])\n",
    "# print(valid_scores[\"mean-pearson_r2_score\"])"
   ]
  },
  {
   "cell_type": "code",
   "execution_count": 276,
   "metadata": {},
   "outputs": [
    {
     "data": {
      "text/plain": [
       "<matplotlib.legend.Legend at 0x7f8d53ea2c88>"
      ]
     },
     "execution_count": 276,
     "metadata": {},
     "output_type": "execute_result"
    },
    {
     "data": {
      "image/png": "[encoded data removed]",
      "text/plain": [
       "<Figure size 432x288 with 1 Axes>"
      ]
     },
     "metadata": {
      "needs_background": "light"
     },
     "output_type": "display_data"
    }
   ],
   "source": [
    "plt.plot(epoch_inputs_list, valid_scores_list, label=\"validation\")\n",
    "plt.plot(epoch_inputs_list, train_scores_list, label=\"training\")\n",
    "plt.legend()"
   ]
  },
  {
   "cell_type": "code",
   "execution_count": null,
   "metadata": {},
   "outputs": [],
   "source": [
    "model.save()\n",
    "model = model.load_from_dir('models')\n",
    "valid_scores = model.evaluate(valid_dataset, [metric], transformers)"
   ]
  },
  {
   "cell_type": "code",
   "execution_count": 50,
   "metadata": {},
   "outputs": [],
   "source": [
    "jinga=[]\n",
    "jinga.append(10)"
   ]
  },
  {
   "cell_type": "code",
   "execution_count": 51,
   "metadata": {},
   "outputs": [
    {
     "data": {
      "text/plain": [
       "[10]"
      ]
     },
     "execution_count": 51,
     "metadata": {},
     "output_type": "execute_result"
    }
   ],
   "source": [
    "jinga"
   ]
  },
  {
   "cell_type": "code",
   "execution_count": null,
   "metadata": {},
   "outputs": [],
   "source": []
  }
 ],
 "metadata": {
  "kernelspec": {
   "display_name": "Python 3",
   "language": "python",
   "name": "python3"
  },
  "language_info": {
   "codemirror_mode": {
    "name": "ipython",
    "version": 3
   },
   "file_extension": ".py",
   "mimetype": "text/x-python",
   "name": "python",
   "nbconvert_exporter": "python",
   "pygments_lexer": "ipython3",
   "version": "3.6.12"
  }
 },
 "nbformat": 4,
 "nbformat_minor": 4
}
