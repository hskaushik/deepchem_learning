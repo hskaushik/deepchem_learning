{
 "cells": [
  {
   "cell_type": "code",
   "execution_count": 2,
   "metadata": {},
   "outputs": [],
   "source": [
    "import pandas as pd\n",
    "import numpy as np\n",
    "\n",
    "from rdkit import Chem\n",
    "from rdkit.Chem import Draw\n",
    "from rdkit.Chem import PandasTools\n",
    "from rdkit.Chem.Draw import IPythonConsole\n",
    "from rdkit.Chem import AllChem\n",
    "from rdkit.Chem import rdFingerprintGenerator\n",
    "from rdkit import DataStructs\n",
    "from rdkit.Chem import MACCSkeys\n",
    "from rdkit.Chem.Fingerprints import FingerprintMols\n",
    "import matplotlib.pyplot as plt\n",
    "\n",
    "import pandas as pd\n",
    "\n",
    "from descriptastorus.descriptors.DescriptorGenerator import MakeGenerator\n",
    "#https://github.com/bp-kelley/descriptastorus\n"
   ]
  },
  {
   "cell_type": "markdown",
   "metadata": {},
   "source": [
    "# Input both test/training dataset "
   ]
  },
  {
   "cell_type": "code",
   "execution_count": 116,
   "metadata": {},
   "outputs": [
    {
     "name": "stdout",
     "output_type": "stream",
     "text": [
      "          SMILES  desired  clearance\n",
      "class                               \n",
      "active       140      140        140\n",
      "inactive     172      172        172\n"
     ]
    }
   ],
   "source": [
    "full_copy = pd.read_csv('../../../project1_data/Series4_full.csv', index_col = 'ID')\n",
    "\n",
    "full_copy.drop(['type', 'Cluster member', 'Cluster type', 'MCS Cluster', 'desired_type'], axis=1, inplace=True)\n",
    "# full_copy.drop(['Cluster member', 'MCS Cluster'], axis=1, inplace=True)\n",
    "full_copy.dropna(inplace=True)\n",
    "\n",
    "\n",
    "full_copy['class'] = np.where( ( (full_copy['clearance'] <=10 ) & (full_copy['desired'] >4.53 ) ), 'active', 'inactive')\n",
    "\n",
    "print(full_copy.groupby(['class']).count())\n",
    "\n",
    "# full_copy.loc[full_copy['clearance'] <20, 'class'] = 'active'\n",
    "# full_copy.loc[full_copy['clearance'] >=20, 'class'] = 'inactive'\n",
    "\n",
    "# # allMerged.drop(allMerged[allMerged.clearance > 49.9].index, inplace=True)\n",
    "\n",
    "# PandasTools.AddMoleculeColumnToFrame(full_copy,smilesCol='SMILES')\n"
   ]
  },
  {
   "cell_type": "code",
   "execution_count": 45,
   "metadata": {},
   "outputs": [],
   "source": [
    "# plotting kde for the desired property\n",
    "# import seaborn as sns\n",
    "\n",
    "# sns.kdeplot(data=full_copy, x=\"desired\")\n",
    "\n",
    "# sns.displot(data=full_copy, x=\"clearance\")\n"
   ]
  },
  {
   "cell_type": "markdown",
   "metadata": {},
   "source": [
    "# Generating descriptors using RDKit"
   ]
  },
  {
   "cell_type": "code",
   "execution_count": 46,
   "metadata": {},
   "outputs": [],
   "source": [
    "# RDKit\n",
    "generator = MakeGenerator((\"RDKit2D\",))\n",
    "\n",
    "full_copy_rdkit2d = [generator.process(x)[1:] for x in full_copy['SMILES']]"
   ]
  },
  {
   "cell_type": "code",
   "execution_count": 47,
   "metadata": {},
   "outputs": [],
   "source": [
    "rdkit2d_name = []\n",
    "for name, numpy_type in generator.GetColumns():\n",
    "    rdkit2d_name.append(name)\n",
    "    \n",
    "full_copy_rdkit2d_df = pd.DataFrame(full_copy_rdkit2d, index = full_copy.index, columns=rdkit2d_name[1:])"
   ]
  },
  {
   "cell_type": "code",
   "execution_count": 48,
   "metadata": {},
   "outputs": [],
   "source": [
    "# full_copy_rdkit2d_df.head()"
   ]
  },
  {
   "cell_type": "markdown",
   "metadata": {},
   "source": [
    "# MACCS keys "
   ]
  },
  {
   "cell_type": "code",
   "execution_count": 49,
   "metadata": {},
   "outputs": [],
   "source": [
    "# full_copy_MAACS = [MACCSkeys.GenMACCSKeys(x) for x in full_copy['ROMol']]\n",
    "# full_copy_MAACS_list = [list(l) for l in full_copy_MAACS]\n",
    "# maccs_name = [f'Bit_{i}' for i in range(167)]\n",
    "# full_copy_MAACS_df = pd.DataFrame(full_copy_MAACS_list, index = full_copy.index, columns=maccs_name)\n",
    "# full_copy_MAACS_df"
   ]
  },
  {
   "cell_type": "code",
   "execution_count": 50,
   "metadata": {},
   "outputs": [],
   "source": [
    "# Mergind MACCS and RDKit descriptors\n",
    "\n",
    "# full_copy_rdkit2d_df = pd.merge(full_copy_MAACS_df,full_copy_rdkit2d_df,left_on='ID',right_on='ID')\n",
    "# full_copy_rdkit2d_df.shape"
   ]
  },
  {
   "cell_type": "code",
   "execution_count": 51,
   "metadata": {},
   "outputs": [],
   "source": [
    "full_copy_rdkit2d_df.to_csv('../../../project1_data/from_PP/full_copy_rdkit2d_df.csv')"
   ]
  },
  {
   "cell_type": "code",
   "execution_count": 52,
   "metadata": {},
   "outputs": [],
   "source": [
    "# TrainTest=full_copy.drop(full_copy[full_copy.type == 'validation'].index)\n",
    "# TrainTest.drop(TrainTest[TrainTest.type == 'excluded'].index, inplace=True)\n",
    "# TrainTest.drop(TrainTest[TrainTest.type == 'excluded_subset'].index, inplace=True)\n",
    "\n",
    "# # full_copy.shape\n",
    "# validation=full_copy.drop(full_copy[full_copy.type == 'TestTrain'].index)\n",
    "# validation.drop(validation[validation.type == 'excluded'].index, inplace=True)\n",
    "# validation.drop(validation[validation.type == 'excluded_subset'].index, inplace=True)\n",
    "\n",
    "# excluded=full_copy.drop(full_copy[full_copy.type == 'TestTrain'].index)\n",
    "# excluded.drop(excluded[excluded.type == 'validation'].index, inplace=True)\n",
    "# excluded.drop(excluded[excluded.type == 'excluded'].index, inplace=True)\n",
    "\n",
    "\n",
    "# TrainTest.head()"
   ]
  },
  {
   "cell_type": "markdown",
   "metadata": {},
   "source": [
    "# Including PP data"
   ]
  },
  {
   "cell_type": "code",
   "execution_count": 115,
   "metadata": {},
   "outputs": [],
   "source": [
    "full_copy_rdkit2d_df = pd.read_csv('../../../project1_data/from_PP/desirable-database_2020-09-10_ONLY-PPP-descriptors.csv', index_col = 'ID')\n",
    "full_copy_rdkit2d_df.head()\n",
    "# allMerged = pd.merge(TrainTest,full_copy_rdkit2d_df,left_on='ID',right_on='ID')\n",
    "# allMerged_validation = pd.merge(validation,full_copy_rdkit2d_df,left_on='ID',right_on='ID')\n",
    "# allMerged_excluded = pd.merge(excluded,full_copy_rdkit2d_df,left_on='ID',right_on='ID')\n",
    "\n",
    "allMerged = pd.merge(full_copy,full_copy_rdkit2d_df,left_on='ID',right_on='ID')\n",
    "\n",
    "# allMerged"
   ]
  },
  {
   "cell_type": "code",
   "execution_count": 54,
   "metadata": {},
   "outputs": [],
   "source": [
    "allMerged.drop(['smiles_stardard'], axis=1, inplace=True)\n",
    "# allMerged_validation.drop(['type', 'Cluster member', 'Cluster type', 'ROMol', 'MCS Cluster', 'smiles_stardard'], axis=1, inplace=True)\n",
    "# allMerged_excluded.drop(['type', 'Cluster member', 'Cluster type', 'ROMol', 'MCS Cluster', 'smiles_stardard'], axis=1, inplace=True)\n",
    "\n",
    "\n",
    "# allMerged.drop(['desired'], axis=1, inplace=True)\n",
    "# allMerged_validation.drop(['desired'], axis=1, inplace=True)\n",
    "# # allMerged_validation.drop(allMerged_validation[allMerged_validation.clearance < 7].index, inplace=True)\n",
    "# allMerged_excluded.drop(['desired'], axis=1, inplace=True)\n",
    "# allMerged_excluded.drop(allMerged_excluded[allMerged_excluded.clearance < 7].index, inplace=True)\n",
    "\n",
    "allMerged.drop(['clearance', 'desired'], axis=1, inplace=True)\n",
    "allMerged.dropna(inplace=True)\n"
   ]
  },
  {
   "cell_type": "code",
   "execution_count": 55,
   "metadata": {},
   "outputs": [],
   "source": [
    "# allMerged"
   ]
  },
  {
   "cell_type": "markdown",
   "metadata": {},
   "source": [
    "# Random forest "
   ]
  },
  {
   "cell_type": "code",
   "execution_count": 56,
   "metadata": {},
   "outputs": [],
   "source": [
    "X = allMerged.iloc[:, 2:,].values #descreptors\n",
    "# y = allMerged.iloc[:, 1].values #desired property\n",
    "\n",
    "y = allMerged['class'].to_numpy()\n",
    "# y.shape"
   ]
  },
  {
   "cell_type": "code",
   "execution_count": 73,
   "metadata": {},
   "outputs": [
    {
     "name": "stdout",
     "output_type": "stream",
     "text": [
      "(249, 163)\n"
     ]
    },
    {
     "data": {
      "image/png": "[encoded data removed]",
      "text/plain": [
       "<Figure size 432x288 with 2 Axes>"
      ]
     },
     "metadata": {
      "needs_background": "light"
     },
     "output_type": "display_data"
    },
    {
     "name": "stdout",
     "output_type": "stream",
     "text": [
      "[1]\n",
      "[0.8571428571428571]\n"
     ]
    }
   ],
   "source": [
    "# print(X.shape)\n",
    "# print(y)\n",
    "\n",
    "# Plotting confusion matrix:\n",
    "def plot_confusion_matrix(y_test, y_pred, accuracy_score, random_seed, N_estimator):\n",
    "    import scikitplot as skplt\n",
    "    skplt.metrics.plot_confusion_matrix(y_test, y_pred)\n",
    "    plt.title('Confusion Matrix \\nAccuracy=' + str(accuracy_score) +\"\" + \"\\nRandom_seed: \" + str(random_seed) + '\\nN_estimator='+str(N_estimator))\n",
    "    plt.show()\n",
    "\n",
    "r2_list = []\n",
    "random_state_variable_list = []\n",
    "\n",
    "n_estimator_variable=100\n",
    "\n",
    "for f in range(1,2,1):\n",
    "\n",
    "    random_state_variable=f\n",
    "    random_state_variable_list.append(f)\n",
    "\n",
    "    from sklearn.model_selection import train_test_split\n",
    "    X_train, X_test, y_train, y_test = train_test_split(X, y, test_size=0.2, random_state=random_state_variable)\n",
    "    print(X_train.shape)\n",
    "    # print(X_test.shape)\n",
    "    # print(y_train.shape)\n",
    "    # print(y_test.shape)\n",
    "\n",
    "    from sklearn.preprocessing import StandardScaler\n",
    "\n",
    "    sc = StandardScaler()\n",
    "    X_train = sc.fit_transform(X_train)\n",
    "    X_test = sc.transform(X_test)\n",
    "    X_train.shape\n",
    "\n",
    "    ### Starting Random Forest fitting\n",
    "\n",
    "    from sklearn.ensemble import RandomForestRegressor, RandomForestClassifier\n",
    "\n",
    "    regressor = RandomForestClassifier(n_estimators=n_estimator_variable, random_state=random_state_variable)\n",
    "    regressor.fit(X_train, y_train)\n",
    "    y_pred = regressor.predict(X_test)\n",
    "\n",
    "    from sklearn import metrics\n",
    "\n",
    "#     print('Mean Absolute Error:', metrics.mean_absolute_error(y_test, y_pred))\n",
    "#     print('Mean Squared Error:', metrics.mean_squared_error(y_test, y_pred))\n",
    "#     print('Root Mean Squared Error:', np.sqrt(metrics.mean_squared_error(y_test, y_pred)))\n",
    "    r2_list.append(metrics.accuracy_score(y_test, y_pred))\n",
    "    plot_confusion_matrix(y_test, y_pred, metrics.accuracy_score(y_test, y_pred), random_state_variable, N_estimator=n_estimator_variable)\n",
    "\n",
    "print (random_state_variable_list)\n",
    "print (r2_list)"
   ]
  },
  {
   "cell_type": "code",
   "execution_count": 114,
   "metadata": {},
   "outputs": [
    {
     "data": {
      "text/plain": [
       "(63,)"
      ]
     },
     "execution_count": 114,
     "metadata": {},
     "output_type": "execute_result"
    }
   ],
   "source": [
    "y_pred.shape\n",
    "# import scikitplot as skplt\n",
    "# skplt.metrics.plot_confusion_matrix(y_test, y_pred)\n",
    "# plt.show()"
   ]
  },
  {
   "cell_type": "markdown",
   "metadata": {},
   "source": [
    "# Visualising leaves"
   ]
  },
  {
   "cell_type": "code",
   "execution_count": 112,
   "metadata": {},
   "outputs": [],
   "source": [
    "# estimator = regressor.estimators_[0]\n",
    "# # print(estimator)\n",
    "# allMerged.columns[2:]\n",
    "# allMerged.columns[1]\n",
    "\n",
    "# # print(allMerged['class'])\n",
    "\n",
    "\n",
    "# fn=allMerged.columns[2:]\n",
    "# cn=allMerged['class']\n",
    "# # print(cn)\n",
    "# from sklearn import tree\n",
    "\n",
    "# fig, axes = plt.subplots(nrows = 1,ncols = 1,figsize = (2,2), dpi=600)\n",
    "# tree.plot_tree(estimator,\n",
    "#                feature_names = fn, \n",
    "#                class_names=cn,\n",
    "#                filled = True,\n",
    "#                max_depth=2,\n",
    "#                fontsize = 2.0);\n",
    "# fig.savefig('RandomForest_PP_Clearance_classifier.png')"
   ]
  },
  {
   "cell_type": "code",
   "execution_count": 78,
   "metadata": {},
   "outputs": [
    {
     "data": {
      "text/plain": [
       "sklearn.tree.tree.DecisionTreeClassifier"
      ]
     },
     "execution_count": 78,
     "metadata": {},
     "output_type": "execute_result"
    }
   ],
   "source": [
    "type(estimator)"
   ]
  },
  {
   "cell_type": "code",
   "execution_count": 90,
   "metadata": {},
   "outputs": [
    {
     "name": "stdout",
     "output_type": "stream",
     "text": [
      "(163,)\n"
     ]
    }
   ],
   "source": [
    "estimator.feature_importances_.shape\n",
    "print(allMerged.columns[2:].shape)"
   ]
  },
  {
   "cell_type": "code",
   "execution_count": 99,
   "metadata": {},
   "outputs": [],
   "source": [
    "important_properties = pd.DataFrame({\"Descriptors\" : allMerged.columns[2:], \"importance\" : estimator.feature_importances_})"
   ]
  },
  {
   "cell_type": "code",
   "execution_count": 113,
   "metadata": {},
   "outputs": [],
   "source": [
    "# important_properties.sort_values(by=['importance'], ascending=False)"
   ]
  },
  {
   "cell_type": "code",
   "execution_count": null,
   "metadata": {},
   "outputs": [],
   "source": []
  }
 ],
 "metadata": {
  "kernelspec": {
   "display_name": "Python 3",
   "language": "python",
   "name": "python3"
  },
  "language_info": {
   "codemirror_mode": {
    "name": "ipython",
    "version": 3
   },
   "file_extension": ".py",
   "mimetype": "text/x-python",
   "name": "python",
   "nbconvert_exporter": "python",
   "pygments_lexer": "ipython3",
   "version": "3.6.12"
  }
 },
 "nbformat": 4,
 "nbformat_minor": 4
}
